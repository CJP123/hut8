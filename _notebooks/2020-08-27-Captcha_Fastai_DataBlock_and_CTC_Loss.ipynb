{
  "nbformat": 4,
  "nbformat_minor": 0,
  "metadata": {
    "colab": {
      "name": "2020-08-27-Captcha-Fastai-DataBlock-and-CTC-Loss",
      "provenance": [],
      "collapsed_sections": [],
      "toc_visible": true,
      "machine_shape": "hm",
      "authorship_tag": "ABX9TyOa/2QnWLPZD7HlW43mSpIA",
      "include_colab_link": true
    },
    "kernelspec": {
      "name": "python3",
      "display_name": "Python 3"
    },
    "accelerator": "GPU"
  },
  "cells": [
    {
      "cell_type": "markdown",
      "metadata": {
        "id": "view-in-github",
        "colab_type": "text"
      },
      "source": [
        "<a href=\"https://colab.research.google.com/github/CJP123/hut8/blob/master/_notebooks/2020-08-27-Captcha_Fastai_DataBlock_and_CTC_Loss.ipynb\" target=\"_parent\"><img src=\"https://colab.research.google.com/assets/colab-badge.svg\" alt=\"Open In Colab\"/></a>"
      ]
    },
    {
      "cell_type": "markdown",
      "metadata": {
        "id": "SMH0WqeINk7k",
        "colab_type": "text"
      },
      "source": [
        "# OCR models for reading Captcha images using Fastai\n",
        "> \"Investigate and use CNN / RNN models and CTC Loss in pytorch / fastai\"\n",
        "\n",
        "- toc:false- branch: master- badges: true- comments: false\n",
        "- author: Clive Pinfold\n",
        "- categories: [custom loss, jupyter, fastai]"
      ]
    },
    {
      "cell_type": "markdown",
      "metadata": {
        "id": "5of52mWHoNam",
        "colab_type": "text"
      },
      "source": [
        "After seeing a few examples on [Connectionist Temporal Classification](https://en.wikipedia.org/wiki/Connectionist_temporal_classification) [CTC] loss it seemed like a chance to try out some OCR, use some custom fastai features and also get a better understanding of how CTC loss works. In reality it was a frustrating trip mainly due to the CTC loss function as it initally seemed to predict only blanks or love randomly stopping learning and produce garbage.\n",
        "\n",
        "In the end however, once put into a fastai scaffold it highlighted the ease it is to experiment and leverage different model architectures and optimisers. I could replicate the approach taken by others and then with a few lines of code I could put in a resnet backbone and train a separate model without the RNN.\n",
        "\n",
        "This example builds on a couple of great tutorials that demonstrate simple OCR models on a [Captcha](http://www.captcha.net/) dataset. One in Keras by [Aakash Kumar Nain](https://keras.io/examples/vision/captcha_ocr/) and a very helpful conversion to pytorch by [\n",
        "Abhishek Thakur](https://www.youtube.com/watch?v=IcLEJB2pY2Y). "
      ]
    },
    {
      "cell_type": "code",
      "metadata": {
        "id": "NDUvHBzxQ46t",
        "colab_type": "code",
        "colab": {}
      },
      "source": [
        "#hide\n",
        "!pip install -U fastai --quiet"
      ],
      "execution_count": 62,
      "outputs": []
    },
    {
      "cell_type": "markdown",
      "metadata": {
        "id": "t8AIAe1-qDKG",
        "colab_type": "text"
      },
      "source": [
        "Lets download and look at one of the images from the dataset."
      ]
    },
    {
      "cell_type": "code",
      "metadata": {
        "id": "J1d9nhNu8r5O",
        "colab_type": "code",
        "colab": {}
      },
      "source": [
        "from fastai.vision.all import *\n",
        "from itertools import groupby"
      ],
      "execution_count": 63,
      "outputs": []
    },
    {
      "cell_type": "code",
      "metadata": {
        "id": "nWGW9zdDRA0Z",
        "colab_type": "code",
        "colab": {
          "base_uri": "https://localhost:8080/",
          "height": 102
        },
        "outputId": "40450b27-0aed-459f-d454-9e9f716c1eb0"
      },
      "source": [
        "#collapse-hide\n",
        "!curl -LO https://github.com/AakashKumarNain/CaptchaCracker/raw/master/captcha_images_v2.zip\n",
        "!unzip -qq captcha_images_v2.zip"
      ],
      "execution_count": 8,
      "outputs": [
        {
          "output_type": "stream",
          "text": [
            "  % Total    % Received % Xferd  Average Speed   Time    Time     Time  Current\n",
            "                                 Dload  Upload   Total   Spent    Left  Speed\n",
            "100   159  100   159    0     0    137      0  0:00:01  0:00:01 --:--:--   137\n",
            "100 8863k  100 8863k    0     0  5153k      0  0:00:01  0:00:01 --:--:-- 26.1M\n",
            "replace captcha_images_v2/ydd3g.png? [y]es, [n]o, [A]ll, [N]one, [r]ename: N\n"
          ],
          "name": "stdout"
        }
      ]
    },
    {
      "cell_type": "code",
      "metadata": {
        "id": "JoOurmYMqrr3",
        "colab_type": "code",
        "colab": {
          "base_uri": "https://localhost:8080/",
          "height": 84
        },
        "outputId": "7918e726-77e1-469b-fef5-473f459f5a6e"
      },
      "source": [
        "#hide\n",
        "path = Path('captcha_images_v2') \n",
        "fns = get_image_files(path) \n",
        "print(fns[0].name)\n",
        "Image.open(fns[14])"
      ],
      "execution_count": 64,
      "outputs": [
        {
          "output_type": "stream",
          "text": [
            "gnc3n.png\n"
          ],
          "name": "stdout"
        },
        {
          "output_type": "execute_result",
          "data": {
            "image/png": "[encoded data removed]",
            "text/plain": [
              "<PIL.PngImagePlugin.PngImageFile image mode=RGBA size=200x50 at 0x7F1456A5BBE0>"
            ]
          },
          "metadata": {
            "tags": []
          },
          "execution_count": 64
        }
      ]
    },
    {
      "cell_type": "markdown",
      "metadata": {
        "id": "x9r1KHCgFtYk",
        "colab_type": "text"
      },
      "source": [
        "# CTC Loss \n",
        "\n",
        "In our images we provide the temporal aspect to the CTC loss by putting the image through some convolutions to provide richer features and permute (re-arrange) the order of the output of the CNN tensor to set the width as 'time' axis in effect sliding a window across the image. This is passed into an RNN before a final linear layer to output the number of categories of the image (the vocab). \n",
        "\n",
        "In this dataset all the images are 5 characters long but as detailled in the linked paper [CTC Loss](\n",
        "https://distill.pub/2017/ctc/) this is not essential and CTC loss can manage variable length targets. Included images from this paper."
      ]
    },
    {
      "cell_type": "markdown",
      "metadata": {
        "id": "bsCMRThMhPQR",
        "colab_type": "text"
      },
      "source": [
        "The CTC model produces a stream of 75 (in our models) temporal predictions. These predictions are blanks [.] and at times multiple consecutive characters. The following function condenses the stream into a coherent prediction. "
      ]
    },
    {
      "cell_type": "code",
      "metadata": {
        "id": "yWYCFucmhZ8G",
        "colab_type": "code",
        "colab": {}
      },
      "source": [
        "def strip_duplicates(str):\n",
        "  return ('').join([x for x, y in groupby(str) if sum(1 for i in y) >0 if x != '.'])\n",
        "# this is perhaps one of the best list comprhensions I have had the pleasure to meet "
      ],
      "execution_count": 65,
      "outputs": []
    },
    {
      "cell_type": "markdown",
      "metadata": {
        "id": "HR4gK7_kf_bC",
        "colab_type": "text"
      },
      "source": [
        "![ctc_alignment_steps.png](data:image/png;base64,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)"
      ]
    },
    {
      "cell_type": "markdown",
      "metadata": {
        "id": "LaDGidC1tHlq",
        "colab_type": "text"
      },
      "source": [
        "# Fastai Datablock\n",
        "This problem requires an ordered list of target categories reflecting the characters. This is close to an existing MultiCategory datablock but I was keen to see how easy it was to generate one that could be used for this problem - the CaptchaBlock"
      ]
    },
    {
      "cell_type": "code",
      "metadata": {
        "id": "0EsPMUnVD307",
        "colab_type": "code",
        "colab": {}
      },
      "source": [
        "class TensorCaptcha(TensorCategory): pass #Create a Tensor \n",
        "\n",
        "def CaptchaBlock(vocab=None):\n",
        "    \"`TransformBlock` for Captcha categorical targets\"\n",
        "    tfm = CaptchaCategorize(vocab=vocab)\n",
        "    return TransformBlock(type_tfms=tfm)\n",
        "\n",
        "class CaptchaCategorize(Categorize):\n",
        "    \"Transform of encoded Captcha-category that decodes with `vocab`\"\n",
        "    def __init__(self, vocab=None, sort=True, add_na=False):\n",
        "        store_attr(self, self.store_attrs+',sort')\n",
        "        self.vocab = None if vocab is None else CategoryMap(vocab, sort=sort, add_na=add_na)\n",
        "    \n",
        "    def encodes(self, o): \n",
        "      return TensorCaptcha(torch.stack([tensor(self.vocab.o2i[x]) for x in o])) #generates a new tensor encoding the labels \n",
        "\n",
        "    def decodes(self, o): \n",
        "      return CaptchaCategory(('').join([Category(self.vocab[x]) for x in o])) #decodes the TensorCaptcha and returns a clean string\n",
        "\n",
        "class CaptchaCategory(L):\n",
        "    def show(self, ctx=None, sep=';', color='black', **kwargs):\n",
        "        return show_title(sep.join(self.map(str)), ctx=ctx, color=color, **kwargs)\n"
      ],
      "execution_count": 66,
      "outputs": []
    },
    {
      "cell_type": "markdown",
      "metadata": {
        "id": "FZlFCeVnuzOx",
        "colab_type": "text"
      },
      "source": [
        "I am not certain that this code utilises all the fastai functionality but it is sufficient for the purposes of this experiment"
      ]
    },
    {
      "cell_type": "code",
      "metadata": {
        "id": "jho22AZu5En9",
        "colab_type": "code",
        "colab": {}
      },
      "source": [
        "def stem_label(o): return o.stem"
      ],
      "execution_count": 67,
      "outputs": []
    },
    {
      "cell_type": "code",
      "metadata": {
        "id": "DUhoReMvvuWY",
        "colab_type": "code",
        "colab": {
          "base_uri": "https://localhost:8080/",
          "height": 34
        },
        "outputId": "7100b78d-5b35-4d15-e91b-0ec8e9291b27"
      },
      "source": [
        "# Set up the required vocab from the filenames titles. \n",
        "# '.' has been added to the front of the vocab to represent the \"blank\" or null character \n",
        "vocab = L('.')+L(set([x for x in ('').join([x.stem for x in fns])]))\n",
        "vocab"
      ],
      "execution_count": 68,
      "outputs": [
        {
          "output_type": "execute_result",
          "data": {
            "text/plain": [
              "(#20) ['.','f','n','4','w','y','2','3','6','x'...]"
            ]
          },
          "metadata": {
            "tags": []
          },
          "execution_count": 68
        }
      ]
    },
    {
      "cell_type": "code",
      "metadata": {
        "id": "ztlVZnO7-8rN",
        "colab_type": "code",
        "colab": {}
      },
      "source": [
        "captcha = DataBlock(blocks =(ImageBlock(cls=PILImageBW), (CaptchaBlock(vocab=vocab))),\n",
        "                 get_items=get_image_files, \n",
        "                 get_y = stem_label,\n",
        "                 splitter=RandomSplitter(valid_pct=.05, seed=42),      \n",
        "                 item_tfms = Resize((75,300))\n",
        "                )\n",
        "dls = captcha.dataloaders(path, bs=8)"
      ],
      "execution_count": 69,
      "outputs": []
    },
    {
      "cell_type": "code",
      "metadata": {
        "id": "h80QLSBDE183",
        "colab_type": "code",
        "colab": {
          "base_uri": "https://localhost:8080/",
          "height": 84
        },
        "outputId": "b2f86e06-7018-41aa-e8c8-9f1ab567e4f7"
      },
      "source": [
        "dls.show_batch(max_n=3)"
      ],
      "execution_count": 70,
      "outputs": [
        {
          "output_type": "display_data",
          "data": {
            "image/png": "[encoded data removed]",
            "text/plain": [
              "<Figure size 648x216 with 3 Axes>"
            ]
          },
          "metadata": {
            "tags": [],
            "needs_background": "light"
          }
        }
      ]
    },
    {
      "cell_type": "markdown",
      "metadata": {
        "id": "vYwEEmALUmWj",
        "colab_type": "text"
      },
      "source": [
        "Need to define the custome loss function for the learners. [CTC Loss in Pytorch](https://pytorch.org/docs/stable/generated/torch.nn.CTCLoss.html)"
      ]
    },
    {
      "cell_type": "code",
      "metadata": {
        "id": "nypwZPuwAzR0",
        "colab_type": "code",
        "colab": {}
      },
      "source": [
        "def ctc_loss(inputs, targets):\n",
        "  inputs = inputs.permute(1,0,2)   # re-order to the expected input for the CTC loss            \n",
        "  log_probs = F.log_softmax(inputs, 2)\n",
        "  input_lengths = torch.full(size=(inputs.size(1),), fill_value=inputs.size(0), dtype=torch.int32) # should be bs x rnn output\n",
        "  target_lengths = torch.full(size=(inputs.size(1),), fill_value=tensor(5), dtype=torch.int32)\n",
        "  loss = nn.CTCLoss(blank=0)(\n",
        "          log_probs, targets, input_lengths, target_lengths\n",
        "          )\n",
        "  return loss"
      ],
      "execution_count": 71,
      "outputs": []
    },
    {
      "cell_type": "code",
      "metadata": {
        "id": "nxN5qdQ64WkB",
        "colab_type": "code",
        "colab": {}
      },
      "source": [
        "# print out some decoded predictions\n",
        "def show_output():\n",
        "  x,y=dls.valid.one_batch() #get a batch\n",
        "  preds = learn.model(x) #get model predictions\n",
        "  preds = torch.argmax(torch.softmax(preds, 2), 2)  \n",
        "  decoded = [('').join(dls.vocab[x]) for x in preds]\n",
        "  cleaned = [strip_duplicates(x) for x in decoded]\n",
        "  results = zip(decoded,cleaned,[('').join(dls.vocab[x]) for x in y.detach().cpu().numpy()])\n",
        "  print('Actual  | ',' '*31,'Prediction',' '*32,'| Cleaned ' )\n",
        "  for res in results:\n",
        "    print(res[2],'  | ',f'{res[0]} | ','.....' if len(res[1]) == 0 else res[1])"
      ],
      "execution_count": 72,
      "outputs": []
    },
    {
      "cell_type": "markdown",
      "metadata": {
        "id": "FNv_h3HtwaIk",
        "colab_type": "text"
      },
      "source": [
        "# Base Model\n",
        "My first model attempted to largely duplicates the approach and code used by [Abhishek](https://github.com/abhishekkrthakur/captcha-recognition-pytorch.git)"
      ]
    },
    {
      "cell_type": "code",
      "metadata": {
        "id": "ZBB9hOprn3bT",
        "colab_type": "code",
        "colab": {}
      },
      "source": [
        "class CaptchaModel(nn.Module):\n",
        "  def __init__(self, num_chars=20):\n",
        "    super(CaptchaModel, self).__init__()\n",
        "    self.conv_1 = nn.Conv2d(1, 128, kernel_size=(3, 6))\n",
        "    self.pool_1 = nn.MaxPool2d(kernel_size=(2, 2))\n",
        "    self.conv_2 = nn.Conv2d(128, 64, kernel_size=(3, 6))\n",
        "    self.pool_2 = nn.MaxPool2d(kernel_size=(2, 2))\n",
        "    self.linear_1 = nn.Linear(1088, 64)\n",
        "    self.drop_1 = nn.Dropout(0.15)\n",
        "    self.gru_1 = nn.GRU(64, 32, bidirectional=True, num_layers=2, dropout=0.15,batch_first=True)\n",
        "    self.output = nn.Linear(64, num_chars)\n",
        "\n",
        "  def forward(self, x, targets=None):\n",
        "    x = F.relu(self.conv_1(x))          \n",
        "    x = self.pool_1(x)\n",
        "    x = F.relu(self.conv_2(x))          \n",
        "    x = self.pool_2(x)                  \n",
        "    x = x.permute(0, 3, 1, 2)           # change the width channel to 'time' channel order for input to the RNN\n",
        "    x = x.view(x.size(0), x.size(1), -1)     \n",
        "    x = F.relu(self.linear_1(x))         \n",
        "    x = self.drop_1(x)                   \n",
        "    x, _ = self.gru_1(x)                 \n",
        "    x = self.output(x)                   \n",
        "    return x"
      ],
      "execution_count": 73,
      "outputs": []
    },
    {
      "cell_type": "markdown",
      "metadata": {
        "id": "pY18QxWOm5OU",
        "colab_type": "text"
      },
      "source": [
        "In this model the CTC loss was slow to reduce and I found the ranger optimiser provided the most consistant results."
      ]
    },
    {
      "cell_type": "code",
      "metadata": {
        "id": "mMmTKN29mbMb",
        "colab_type": "code",
        "colab": {}
      },
      "source": [
        "learn = Learner(dls, CaptchaModel(20), opt_func=ranger, loss_func=ctc_loss)"
      ],
      "execution_count": 74,
      "outputs": []
    },
    {
      "cell_type": "code",
      "metadata": {
        "id": "5_heEkYTsR4o",
        "colab_type": "code",
        "colab": {
          "base_uri": "https://localhost:8080/",
          "height": 1000
        },
        "outputId": "6a6c6df3-d142-457a-804c-db2d7791453d"
      },
      "source": [
        "#collapse-hide\n",
        "learn.fit_flat_cos(50)"
      ],
      "execution_count": 75,
      "outputs": [
        {
          "output_type": "display_data",
          "data": {
            "text/html": [
              "<table border=\"1\" class=\"dataframe\">\n",
              "  <thead>\n",
              "    <tr style=\"text-align: left;\">\n",
              "      <th>epoch</th>\n",
              "      <th>train_loss</th>\n",
              "      <th>valid_loss</th>\n",
              "      <th>time</th>\n",
              "    </tr>\n",
              "  </thead>\n",
              "  <tbody>\n",
              "    <tr>\n",
              "      <td>0</td>\n",
              "      <td>6.609824</td>\n",
              "      <td>3.323853</td>\n",
              "      <td>00:04</td>\n",
              "    </tr>\n",
              "    <tr>\n",
              "      <td>1</td>\n",
              "      <td>3.532869</td>\n",
              "      <td>3.267331</td>\n",
              "      <td>00:04</td>\n",
              "    </tr>\n",
              "    <tr>\n",
              "      <td>2</td>\n",
              "      <td>3.290485</td>\n",
              "      <td>3.272826</td>\n",
              "      <td>00:04</td>\n",
              "    </tr>\n",
              "    <tr>\n",
              "      <td>3</td>\n",
              "      <td>3.270662</td>\n",
              "      <td>3.268196</td>\n",
              "      <td>00:04</td>\n",
              "    </tr>\n",
              "    <tr>\n",
              "      <td>4</td>\n",
              "      <td>3.270051</td>\n",
              "      <td>3.273657</td>\n",
              "      <td>00:04</td>\n",
              "    </tr>\n",
              "    <tr>\n",
              "      <td>5</td>\n",
              "      <td>3.269391</td>\n",
              "      <td>3.262935</td>\n",
              "      <td>00:04</td>\n",
              "    </tr>\n",
              "    <tr>\n",
              "      <td>6</td>\n",
              "      <td>3.267435</td>\n",
              "      <td>3.266809</td>\n",
              "      <td>00:04</td>\n",
              "    </tr>\n",
              "    <tr>\n",
              "      <td>7</td>\n",
              "      <td>3.271755</td>\n",
              "      <td>3.266099</td>\n",
              "      <td>00:04</td>\n",
              "    </tr>\n",
              "    <tr>\n",
              "      <td>8</td>\n",
              "      <td>3.269518</td>\n",
              "      <td>3.271400</td>\n",
              "      <td>00:04</td>\n",
              "    </tr>\n",
              "    <tr>\n",
              "      <td>9</td>\n",
              "      <td>3.267635</td>\n",
              "      <td>3.266140</td>\n",
              "      <td>00:04</td>\n",
              "    </tr>\n",
              "    <tr>\n",
              "      <td>10</td>\n",
              "      <td>3.261499</td>\n",
              "      <td>3.264678</td>\n",
              "      <td>00:04</td>\n",
              "    </tr>\n",
              "    <tr>\n",
              "      <td>11</td>\n",
              "      <td>3.241470</td>\n",
              "      <td>3.226172</td>\n",
              "      <td>00:04</td>\n",
              "    </tr>\n",
              "    <tr>\n",
              "      <td>12</td>\n",
              "      <td>3.128417</td>\n",
              "      <td>3.033988</td>\n",
              "      <td>00:04</td>\n",
              "    </tr>\n",
              "    <tr>\n",
              "      <td>13</td>\n",
              "      <td>2.834319</td>\n",
              "      <td>2.675315</td>\n",
              "      <td>00:04</td>\n",
              "    </tr>\n",
              "    <tr>\n",
              "      <td>14</td>\n",
              "      <td>2.347718</td>\n",
              "      <td>2.033316</td>\n",
              "      <td>00:04</td>\n",
              "    </tr>\n",
              "    <tr>\n",
              "      <td>15</td>\n",
              "      <td>1.727427</td>\n",
              "      <td>1.371870</td>\n",
              "      <td>00:04</td>\n",
              "    </tr>\n",
              "    <tr>\n",
              "      <td>16</td>\n",
              "      <td>1.195712</td>\n",
              "      <td>0.904212</td>\n",
              "      <td>00:04</td>\n",
              "    </tr>\n",
              "    <tr>\n",
              "      <td>17</td>\n",
              "      <td>0.809483</td>\n",
              "      <td>0.594941</td>\n",
              "      <td>00:04</td>\n",
              "    </tr>\n",
              "    <tr>\n",
              "      <td>18</td>\n",
              "      <td>0.539990</td>\n",
              "      <td>0.413704</td>\n",
              "      <td>00:04</td>\n",
              "    </tr>\n",
              "    <tr>\n",
              "      <td>19</td>\n",
              "      <td>0.388716</td>\n",
              "      <td>0.269969</td>\n",
              "      <td>00:04</td>\n",
              "    </tr>\n",
              "    <tr>\n",
              "      <td>20</td>\n",
              "      <td>0.292926</td>\n",
              "      <td>0.229332</td>\n",
              "      <td>00:04</td>\n",
              "    </tr>\n",
              "    <tr>\n",
              "      <td>21</td>\n",
              "      <td>0.234733</td>\n",
              "      <td>0.158362</td>\n",
              "      <td>00:04</td>\n",
              "    </tr>\n",
              "    <tr>\n",
              "      <td>22</td>\n",
              "      <td>0.198691</td>\n",
              "      <td>0.136957</td>\n",
              "      <td>00:04</td>\n",
              "    </tr>\n",
              "    <tr>\n",
              "      <td>23</td>\n",
              "      <td>0.166947</td>\n",
              "      <td>0.111851</td>\n",
              "      <td>00:04</td>\n",
              "    </tr>\n",
              "    <tr>\n",
              "      <td>24</td>\n",
              "      <td>0.133075</td>\n",
              "      <td>0.097499</td>\n",
              "      <td>00:04</td>\n",
              "    </tr>\n",
              "    <tr>\n",
              "      <td>25</td>\n",
              "      <td>0.111790</td>\n",
              "      <td>0.070738</td>\n",
              "      <td>00:04</td>\n",
              "    </tr>\n",
              "    <tr>\n",
              "      <td>26</td>\n",
              "      <td>0.081592</td>\n",
              "      <td>0.051005</td>\n",
              "      <td>00:04</td>\n",
              "    </tr>\n",
              "    <tr>\n",
              "      <td>27</td>\n",
              "      <td>0.072194</td>\n",
              "      <td>0.035413</td>\n",
              "      <td>00:04</td>\n",
              "    </tr>\n",
              "    <tr>\n",
              "      <td>28</td>\n",
              "      <td>0.049367</td>\n",
              "      <td>0.020543</td>\n",
              "      <td>00:04</td>\n",
              "    </tr>\n",
              "    <tr>\n",
              "      <td>29</td>\n",
              "      <td>0.035093</td>\n",
              "      <td>0.014549</td>\n",
              "      <td>00:04</td>\n",
              "    </tr>\n",
              "    <tr>\n",
              "      <td>30</td>\n",
              "      <td>0.028729</td>\n",
              "      <td>0.018084</td>\n",
              "      <td>00:04</td>\n",
              "    </tr>\n",
              "    <tr>\n",
              "      <td>31</td>\n",
              "      <td>0.027008</td>\n",
              "      <td>0.022975</td>\n",
              "      <td>00:04</td>\n",
              "    </tr>\n",
              "    <tr>\n",
              "      <td>32</td>\n",
              "      <td>0.025104</td>\n",
              "      <td>0.006572</td>\n",
              "      <td>00:04</td>\n",
              "    </tr>\n",
              "    <tr>\n",
              "      <td>33</td>\n",
              "      <td>0.025929</td>\n",
              "      <td>0.005964</td>\n",
              "      <td>00:04</td>\n",
              "    </tr>\n",
              "    <tr>\n",
              "      <td>34</td>\n",
              "      <td>0.021847</td>\n",
              "      <td>0.007538</td>\n",
              "      <td>00:04</td>\n",
              "    </tr>\n",
              "    <tr>\n",
              "      <td>35</td>\n",
              "      <td>0.015877</td>\n",
              "      <td>0.003742</td>\n",
              "      <td>00:04</td>\n",
              "    </tr>\n",
              "    <tr>\n",
              "      <td>36</td>\n",
              "      <td>0.024328</td>\n",
              "      <td>0.003604</td>\n",
              "      <td>00:04</td>\n",
              "    </tr>\n",
              "    <tr>\n",
              "      <td>37</td>\n",
              "      <td>0.014248</td>\n",
              "      <td>0.003510</td>\n",
              "      <td>00:04</td>\n",
              "    </tr>\n",
              "    <tr>\n",
              "      <td>38</td>\n",
              "      <td>0.012888</td>\n",
              "      <td>0.009009</td>\n",
              "      <td>00:04</td>\n",
              "    </tr>\n",
              "    <tr>\n",
              "      <td>39</td>\n",
              "      <td>0.015218</td>\n",
              "      <td>0.004433</td>\n",
              "      <td>00:04</td>\n",
              "    </tr>\n",
              "    <tr>\n",
              "      <td>40</td>\n",
              "      <td>0.010900</td>\n",
              "      <td>0.005395</td>\n",
              "      <td>00:04</td>\n",
              "    </tr>\n",
              "    <tr>\n",
              "      <td>41</td>\n",
              "      <td>0.012571</td>\n",
              "      <td>0.004582</td>\n",
              "      <td>00:04</td>\n",
              "    </tr>\n",
              "    <tr>\n",
              "      <td>42</td>\n",
              "      <td>0.008129</td>\n",
              "      <td>0.001920</td>\n",
              "      <td>00:04</td>\n",
              "    </tr>\n",
              "    <tr>\n",
              "      <td>43</td>\n",
              "      <td>0.009525</td>\n",
              "      <td>0.021432</td>\n",
              "      <td>00:04</td>\n",
              "    </tr>\n",
              "    <tr>\n",
              "      <td>44</td>\n",
              "      <td>0.007385</td>\n",
              "      <td>0.001742</td>\n",
              "      <td>00:04</td>\n",
              "    </tr>\n",
              "    <tr>\n",
              "      <td>45</td>\n",
              "      <td>0.005052</td>\n",
              "      <td>0.001596</td>\n",
              "      <td>00:04</td>\n",
              "    </tr>\n",
              "    <tr>\n",
              "      <td>46</td>\n",
              "      <td>0.006797</td>\n",
              "      <td>0.001626</td>\n",
              "      <td>00:04</td>\n",
              "    </tr>\n",
              "    <tr>\n",
              "      <td>47</td>\n",
              "      <td>0.004559</td>\n",
              "      <td>0.001452</td>\n",
              "      <td>00:04</td>\n",
              "    </tr>\n",
              "    <tr>\n",
              "      <td>48</td>\n",
              "      <td>0.005018</td>\n",
              "      <td>0.001360</td>\n",
              "      <td>00:04</td>\n",
              "    </tr>\n",
              "    <tr>\n",
              "      <td>49</td>\n",
              "      <td>0.005315</td>\n",
              "      <td>0.001356</td>\n",
              "      <td>00:04</td>\n",
              "    </tr>\n",
              "  </tbody>\n",
              "</table>"
            ],
            "text/plain": [
              "<IPython.core.display.HTML object>"
            ]
          },
          "metadata": {
            "tags": []
          }
        }
      ]
    },
    {
      "cell_type": "markdown",
      "metadata": {
        "id": "ocOnMVH2ytuB",
        "colab_type": "text"
      },
      "source": [
        "With this model it is possible to produce reasonable results after 30 epochs."
      ]
    },
    {
      "cell_type": "code",
      "metadata": {
        "id": "AiePzgiFyhgQ",
        "colab_type": "code",
        "colab": {
          "base_uri": "https://localhost:8080/",
          "height": 170
        },
        "outputId": "45034785-f6e2-4739-b4a7-93a22492316d"
      },
      "source": [
        "show_output()"
      ],
      "execution_count": 76,
      "outputs": [
        {
          "output_type": "stream",
          "text": [
            "Actual  |                                  Prediction                                  | Cleaned \n",
            "mfb3x   |  ............m..........ff....bb........3.........xx.................... |  mfb3x\n",
            "2npg6   |  ............22.....n.....ppp..........gg...66.......................... |  2npg6\n",
            "d7c5x   |  ...............dd....77.....ccc....55........xx........................ |  d7c5x\n",
            "77n6g   |  .............77.....77....n.......66.........gg........................ |  77n6g\n",
            "6gnm3   |  ............6.........ggg...n......m.......333......................... |  6gnm3\n",
            "gwnm6   |  ..............ggg.......ww....n......m............66................... |  gwnm6\n",
            "7gp47   |  .............77.......ggg..pp.........44......77....................... |  7gp47\n",
            "yw667   |  .............yyy...........ww....66.......66.......77.................. |  yw667\n"
          ],
          "name": "stdout"
        }
      ]
    },
    {
      "cell_type": "markdown",
      "metadata": {
        "id": "3qNNCQy1l337",
        "colab_type": "text"
      },
      "source": [
        "# Using a Custom Fastai CNN Head\n",
        "\n",
        "Fastai makes it so easy to insert part of a CNN architechture into any model so lets simplyfy the model layers. No need to modify the dataset or loss functions."
      ]
    },
    {
      "cell_type": "code",
      "metadata": {
        "id": "mCFfDhevCJsw",
        "colab_type": "code",
        "colab": {}
      },
      "source": [
        "class XResnetHeadCaptchaModel(nn.Module):\n",
        "  def __init__(self, num_chars=20):\n",
        "    super(XResnetHeadCaptchaModel, self).__init__()\n",
        "    self.body = create_body(xresnet18, n_in=1, cut=4) #one line of code for 3 convolutions and a max pool layer\n",
        "    self.linear_1 = nn.Linear(1216, 64)\n",
        "    self.gru_1 = nn.GRU(64, 32, bidirectional=True, num_layers=2, dropout=0.15,batch_first=True)\n",
        "    self.output = nn.Linear(64, num_chars)\n",
        "\n",
        "  def forward(self, x, targets=None):\n",
        "    x = self.body(x)          \n",
        "    x = x.permute(0, 3, 1, 2)           # change the width channel to 'time' channel order for input to the RNN\n",
        "    x = x.view(x.size(0), x.size(1), -1)     \n",
        "    x = F.relu(self.linear_1(x))         \n",
        "    x, _ = self.gru_1(x)                 \n",
        "    x = self.output(x)                   \n",
        "    return x"
      ],
      "execution_count": 77,
      "outputs": []
    },
    {
      "cell_type": "code",
      "metadata": {
        "id": "q9VFfJAll2MS",
        "colab_type": "code",
        "colab": {}
      },
      "source": [
        "learn = Learner(dls, XResnetHeadCaptchaModel(20), opt_func=ranger, loss_func=ctc_loss)"
      ],
      "execution_count": 78,
      "outputs": []
    },
    {
      "cell_type": "code",
      "metadata": {
        "id": "luX3He8_o65S",
        "colab_type": "code",
        "colab": {
          "base_uri": "https://localhost:8080/",
          "height": 1000
        },
        "outputId": "fd655900-2c7e-42d3-e0e2-f5323b4d1ccd"
      },
      "source": [
        "#collapse-hide\n",
        "learn.fit_one_cycle(50)"
      ],
      "execution_count": 79,
      "outputs": [
        {
          "output_type": "display_data",
          "data": {
            "text/html": [
              "<table border=\"1\" class=\"dataframe\">\n",
              "  <thead>\n",
              "    <tr style=\"text-align: left;\">\n",
              "      <th>epoch</th>\n",
              "      <th>train_loss</th>\n",
              "      <th>valid_loss</th>\n",
              "      <th>time</th>\n",
              "    </tr>\n",
              "  </thead>\n",
              "  <tbody>\n",
              "    <tr>\n",
              "      <td>0</td>\n",
              "      <td>36.014141</td>\n",
              "      <td>33.254025</td>\n",
              "      <td>00:03</td>\n",
              "    </tr>\n",
              "    <tr>\n",
              "      <td>1</td>\n",
              "      <td>23.298916</td>\n",
              "      <td>15.777877</td>\n",
              "      <td>00:03</td>\n",
              "    </tr>\n",
              "    <tr>\n",
              "      <td>2</td>\n",
              "      <td>10.088671</td>\n",
              "      <td>6.058345</td>\n",
              "      <td>00:03</td>\n",
              "    </tr>\n",
              "    <tr>\n",
              "      <td>3</td>\n",
              "      <td>4.672950</td>\n",
              "      <td>3.596047</td>\n",
              "      <td>00:03</td>\n",
              "    </tr>\n",
              "    <tr>\n",
              "      <td>4</td>\n",
              "      <td>3.458390</td>\n",
              "      <td>3.295455</td>\n",
              "      <td>00:03</td>\n",
              "    </tr>\n",
              "    <tr>\n",
              "      <td>5</td>\n",
              "      <td>3.290624</td>\n",
              "      <td>3.274989</td>\n",
              "      <td>00:03</td>\n",
              "    </tr>\n",
              "    <tr>\n",
              "      <td>6</td>\n",
              "      <td>3.270075</td>\n",
              "      <td>3.270474</td>\n",
              "      <td>00:03</td>\n",
              "    </tr>\n",
              "    <tr>\n",
              "      <td>7</td>\n",
              "      <td>3.269157</td>\n",
              "      <td>3.272807</td>\n",
              "      <td>00:03</td>\n",
              "    </tr>\n",
              "    <tr>\n",
              "      <td>8</td>\n",
              "      <td>3.267462</td>\n",
              "      <td>3.269497</td>\n",
              "      <td>00:03</td>\n",
              "    </tr>\n",
              "    <tr>\n",
              "      <td>9</td>\n",
              "      <td>3.259346</td>\n",
              "      <td>3.249301</td>\n",
              "      <td>00:03</td>\n",
              "    </tr>\n",
              "    <tr>\n",
              "      <td>10</td>\n",
              "      <td>3.165827</td>\n",
              "      <td>3.040620</td>\n",
              "      <td>00:03</td>\n",
              "    </tr>\n",
              "    <tr>\n",
              "      <td>11</td>\n",
              "      <td>2.781710</td>\n",
              "      <td>2.500156</td>\n",
              "      <td>00:03</td>\n",
              "    </tr>\n",
              "    <tr>\n",
              "      <td>12</td>\n",
              "      <td>2.069263</td>\n",
              "      <td>1.651208</td>\n",
              "      <td>00:03</td>\n",
              "    </tr>\n",
              "    <tr>\n",
              "      <td>13</td>\n",
              "      <td>1.268576</td>\n",
              "      <td>0.872029</td>\n",
              "      <td>00:03</td>\n",
              "    </tr>\n",
              "    <tr>\n",
              "      <td>14</td>\n",
              "      <td>0.719417</td>\n",
              "      <td>0.458771</td>\n",
              "      <td>00:03</td>\n",
              "    </tr>\n",
              "    <tr>\n",
              "      <td>15</td>\n",
              "      <td>0.439499</td>\n",
              "      <td>0.293657</td>\n",
              "      <td>00:03</td>\n",
              "    </tr>\n",
              "    <tr>\n",
              "      <td>16</td>\n",
              "      <td>0.285732</td>\n",
              "      <td>0.226361</td>\n",
              "      <td>00:03</td>\n",
              "    </tr>\n",
              "    <tr>\n",
              "      <td>17</td>\n",
              "      <td>0.207401</td>\n",
              "      <td>0.160840</td>\n",
              "      <td>00:03</td>\n",
              "    </tr>\n",
              "    <tr>\n",
              "      <td>18</td>\n",
              "      <td>0.172330</td>\n",
              "      <td>0.173937</td>\n",
              "      <td>00:03</td>\n",
              "    </tr>\n",
              "    <tr>\n",
              "      <td>19</td>\n",
              "      <td>0.167037</td>\n",
              "      <td>0.125016</td>\n",
              "      <td>00:03</td>\n",
              "    </tr>\n",
              "    <tr>\n",
              "      <td>20</td>\n",
              "      <td>0.137994</td>\n",
              "      <td>0.136077</td>\n",
              "      <td>00:03</td>\n",
              "    </tr>\n",
              "    <tr>\n",
              "      <td>21</td>\n",
              "      <td>0.129348</td>\n",
              "      <td>0.120690</td>\n",
              "      <td>00:03</td>\n",
              "    </tr>\n",
              "    <tr>\n",
              "      <td>22</td>\n",
              "      <td>0.119736</td>\n",
              "      <td>0.121862</td>\n",
              "      <td>00:03</td>\n",
              "    </tr>\n",
              "    <tr>\n",
              "      <td>23</td>\n",
              "      <td>0.112846</td>\n",
              "      <td>0.117217</td>\n",
              "      <td>00:03</td>\n",
              "    </tr>\n",
              "    <tr>\n",
              "      <td>24</td>\n",
              "      <td>0.092125</td>\n",
              "      <td>0.117523</td>\n",
              "      <td>00:03</td>\n",
              "    </tr>\n",
              "    <tr>\n",
              "      <td>25</td>\n",
              "      <td>0.082723</td>\n",
              "      <td>0.088665</td>\n",
              "      <td>00:03</td>\n",
              "    </tr>\n",
              "    <tr>\n",
              "      <td>26</td>\n",
              "      <td>0.070798</td>\n",
              "      <td>0.086196</td>\n",
              "      <td>00:03</td>\n",
              "    </tr>\n",
              "    <tr>\n",
              "      <td>27</td>\n",
              "      <td>0.067707</td>\n",
              "      <td>0.055312</td>\n",
              "      <td>00:03</td>\n",
              "    </tr>\n",
              "    <tr>\n",
              "      <td>28</td>\n",
              "      <td>0.051307</td>\n",
              "      <td>0.073081</td>\n",
              "      <td>00:03</td>\n",
              "    </tr>\n",
              "    <tr>\n",
              "      <td>29</td>\n",
              "      <td>0.043052</td>\n",
              "      <td>0.050056</td>\n",
              "      <td>00:03</td>\n",
              "    </tr>\n",
              "    <tr>\n",
              "      <td>30</td>\n",
              "      <td>0.031206</td>\n",
              "      <td>0.088094</td>\n",
              "      <td>00:03</td>\n",
              "    </tr>\n",
              "    <tr>\n",
              "      <td>31</td>\n",
              "      <td>0.026335</td>\n",
              "      <td>0.066743</td>\n",
              "      <td>00:03</td>\n",
              "    </tr>\n",
              "    <tr>\n",
              "      <td>32</td>\n",
              "      <td>0.021767</td>\n",
              "      <td>0.056440</td>\n",
              "      <td>00:03</td>\n",
              "    </tr>\n",
              "    <tr>\n",
              "      <td>33</td>\n",
              "      <td>0.012519</td>\n",
              "      <td>0.039509</td>\n",
              "      <td>00:03</td>\n",
              "    </tr>\n",
              "    <tr>\n",
              "      <td>34</td>\n",
              "      <td>0.011566</td>\n",
              "      <td>0.044782</td>\n",
              "      <td>00:03</td>\n",
              "    </tr>\n",
              "    <tr>\n",
              "      <td>35</td>\n",
              "      <td>0.008468</td>\n",
              "      <td>0.058011</td>\n",
              "      <td>00:03</td>\n",
              "    </tr>\n",
              "    <tr>\n",
              "      <td>36</td>\n",
              "      <td>0.005580</td>\n",
              "      <td>0.058655</td>\n",
              "      <td>00:03</td>\n",
              "    </tr>\n",
              "    <tr>\n",
              "      <td>37</td>\n",
              "      <td>0.005292</td>\n",
              "      <td>0.048953</td>\n",
              "      <td>00:03</td>\n",
              "    </tr>\n",
              "    <tr>\n",
              "      <td>38</td>\n",
              "      <td>0.004385</td>\n",
              "      <td>0.035983</td>\n",
              "      <td>00:03</td>\n",
              "    </tr>\n",
              "    <tr>\n",
              "      <td>39</td>\n",
              "      <td>0.003612</td>\n",
              "      <td>0.034569</td>\n",
              "      <td>00:03</td>\n",
              "    </tr>\n",
              "    <tr>\n",
              "      <td>40</td>\n",
              "      <td>0.003088</td>\n",
              "      <td>0.039032</td>\n",
              "      <td>00:03</td>\n",
              "    </tr>\n",
              "    <tr>\n",
              "      <td>41</td>\n",
              "      <td>0.002191</td>\n",
              "      <td>0.042363</td>\n",
              "      <td>00:03</td>\n",
              "    </tr>\n",
              "    <tr>\n",
              "      <td>42</td>\n",
              "      <td>0.002211</td>\n",
              "      <td>0.045278</td>\n",
              "      <td>00:03</td>\n",
              "    </tr>\n",
              "    <tr>\n",
              "      <td>43</td>\n",
              "      <td>0.002187</td>\n",
              "      <td>0.044868</td>\n",
              "      <td>00:03</td>\n",
              "    </tr>\n",
              "    <tr>\n",
              "      <td>44</td>\n",
              "      <td>0.001879</td>\n",
              "      <td>0.039750</td>\n",
              "      <td>00:03</td>\n",
              "    </tr>\n",
              "    <tr>\n",
              "      <td>45</td>\n",
              "      <td>0.001612</td>\n",
              "      <td>0.046021</td>\n",
              "      <td>00:03</td>\n",
              "    </tr>\n",
              "    <tr>\n",
              "      <td>46</td>\n",
              "      <td>0.001663</td>\n",
              "      <td>0.043322</td>\n",
              "      <td>00:03</td>\n",
              "    </tr>\n",
              "    <tr>\n",
              "      <td>47</td>\n",
              "      <td>0.001461</td>\n",
              "      <td>0.044628</td>\n",
              "      <td>00:03</td>\n",
              "    </tr>\n",
              "    <tr>\n",
              "      <td>48</td>\n",
              "      <td>0.001440</td>\n",
              "      <td>0.044295</td>\n",
              "      <td>00:03</td>\n",
              "    </tr>\n",
              "    <tr>\n",
              "      <td>49</td>\n",
              "      <td>0.001530</td>\n",
              "      <td>0.045181</td>\n",
              "      <td>00:03</td>\n",
              "    </tr>\n",
              "  </tbody>\n",
              "</table>"
            ],
            "text/plain": [
              "<IPython.core.display.HTML object>"
            ]
          },
          "metadata": {
            "tags": []
          }
        }
      ]
    },
    {
      "cell_type": "code",
      "metadata": {
        "id": "5T-kqcrDo6v8",
        "colab_type": "code",
        "colab": {
          "base_uri": "https://localhost:8080/",
          "height": 170
        },
        "outputId": "08a7b37a-9f96-47f5-df18-59e72c6e1a99"
      },
      "source": [
        "show_output()"
      ],
      "execution_count": 80,
      "outputs": [
        {
          "output_type": "stream",
          "text": [
            "Actual  |                                  Prediction                                  | Cleaned \n",
            "mfb3x   |  .............m............f.....b.......33.........x....................... |  mfb3x\n",
            "2npg6   |  ...............22...n.......pp.......g.......66............................ |  2npg6\n",
            "d7c5x   |  .............d..........7....cc......5.........xx.......................... |  d7c5x\n",
            "77n6g   |  ...............7......77...n.......66......gg.............................. |  77n6g\n",
            "6gnm3   |  .............66......g........n......m.......33............................ |  6gnm3\n",
            "gwnm6   |  .............g.......w.........n.......m...........66...................... |  gwnm6\n",
            "7gp47   |  ...............77....g.......pp.........44......7.......................... |  7gp47\n",
            "yw667   |  .............yy........w..........666......66........77.................... |  yw667\n"
          ],
          "name": "stdout"
        }
      ]
    },
    {
      "cell_type": "markdown",
      "metadata": {
        "id": "ydPEnCP12fmX",
        "colab_type": "text"
      },
      "source": [
        "# CNN Only Model\n",
        "The others models combine a CNN and RNN. The CNN is permuted and reshaped before entering the RNN so that it already should have some sense of \"time\" order to feed into the CTC loss even without the RNN. This model will remove the RNN from the model and see if can still learn. We will also feed the flattened output of the CNN through just one linear layer."
      ]
    },
    {
      "cell_type": "code",
      "metadata": {
        "id": "vZLin3-dz01u",
        "colab_type": "code",
        "colab": {}
      },
      "source": [
        "class ThreeLayerCNNCaptchaModel(nn.Module):\n",
        "  def __init__(self, num_chars=20):\n",
        "    super(ThreeLayerCNNCaptchaModel, self).__init__()\n",
        "    self.body = create_body(xresnet18, n_in=1, cut=4)\n",
        "    self.output = nn.Linear(1216, num_chars)\n",
        "\n",
        "  def forward(self, x, targets=None):\n",
        "    x = self.body(x)          \n",
        "    x = x.permute(0, 3, 1, 2)           # change the width channel to 'time' channel order for input to the RNN\n",
        "    x = x.view(x.size(0), x.size(1), -1)     \n",
        "    x = self.output(x)                   \n",
        "    return x"
      ],
      "execution_count": 81,
      "outputs": []
    },
    {
      "cell_type": "code",
      "metadata": {
        "id": "YH88Z7i4hzmc",
        "colab_type": "code",
        "colab": {}
      },
      "source": [
        "learn = Learner(dls, ThreeLayerCNNCaptchaModel(20), loss_func=ctc_loss, opt_func=ranger)"
      ],
      "execution_count": 82,
      "outputs": []
    },
    {
      "cell_type": "code",
      "metadata": {
        "id": "tUicTPeuhziN",
        "colab_type": "code",
        "colab": {
          "base_uri": "https://localhost:8080/",
          "height": 1000
        },
        "outputId": "76239fa0-a4c2-48eb-ff8e-b922f6a3ea10"
      },
      "source": [
        "#collapse-hide\n",
        "learn.fit_one_cycle(50)"
      ],
      "execution_count": 83,
      "outputs": [
        {
          "output_type": "display_data",
          "data": {
            "text/html": [
              "<table border=\"1\" class=\"dataframe\">\n",
              "  <thead>\n",
              "    <tr style=\"text-align: left;\">\n",
              "      <th>epoch</th>\n",
              "      <th>train_loss</th>\n",
              "      <th>valid_loss</th>\n",
              "      <th>time</th>\n",
              "    </tr>\n",
              "  </thead>\n",
              "  <tbody>\n",
              "    <tr>\n",
              "      <td>0</td>\n",
              "      <td>3.639349</td>\n",
              "      <td>3.348868</td>\n",
              "      <td>00:01</td>\n",
              "    </tr>\n",
              "    <tr>\n",
              "      <td>1</td>\n",
              "      <td>3.344151</td>\n",
              "      <td>3.329033</td>\n",
              "      <td>00:01</td>\n",
              "    </tr>\n",
              "    <tr>\n",
              "      <td>2</td>\n",
              "      <td>3.294963</td>\n",
              "      <td>3.317898</td>\n",
              "      <td>00:01</td>\n",
              "    </tr>\n",
              "    <tr>\n",
              "      <td>3</td>\n",
              "      <td>3.274048</td>\n",
              "      <td>3.278011</td>\n",
              "      <td>00:01</td>\n",
              "    </tr>\n",
              "    <tr>\n",
              "      <td>4</td>\n",
              "      <td>3.190333</td>\n",
              "      <td>3.232394</td>\n",
              "      <td>00:01</td>\n",
              "    </tr>\n",
              "    <tr>\n",
              "      <td>5</td>\n",
              "      <td>2.064031</td>\n",
              "      <td>1.264510</td>\n",
              "      <td>00:01</td>\n",
              "    </tr>\n",
              "    <tr>\n",
              "      <td>6</td>\n",
              "      <td>0.911614</td>\n",
              "      <td>0.692102</td>\n",
              "      <td>00:01</td>\n",
              "    </tr>\n",
              "    <tr>\n",
              "      <td>7</td>\n",
              "      <td>0.511333</td>\n",
              "      <td>0.383044</td>\n",
              "      <td>00:01</td>\n",
              "    </tr>\n",
              "    <tr>\n",
              "      <td>8</td>\n",
              "      <td>0.357558</td>\n",
              "      <td>0.466906</td>\n",
              "      <td>00:01</td>\n",
              "    </tr>\n",
              "    <tr>\n",
              "      <td>9</td>\n",
              "      <td>0.278443</td>\n",
              "      <td>0.274079</td>\n",
              "      <td>00:01</td>\n",
              "    </tr>\n",
              "    <tr>\n",
              "      <td>10</td>\n",
              "      <td>0.283124</td>\n",
              "      <td>0.247007</td>\n",
              "      <td>00:01</td>\n",
              "    </tr>\n",
              "    <tr>\n",
              "      <td>11</td>\n",
              "      <td>0.207888</td>\n",
              "      <td>0.250209</td>\n",
              "      <td>00:01</td>\n",
              "    </tr>\n",
              "    <tr>\n",
              "      <td>12</td>\n",
              "      <td>0.205092</td>\n",
              "      <td>0.330617</td>\n",
              "      <td>00:01</td>\n",
              "    </tr>\n",
              "    <tr>\n",
              "      <td>13</td>\n",
              "      <td>0.154303</td>\n",
              "      <td>0.199067</td>\n",
              "      <td>00:01</td>\n",
              "    </tr>\n",
              "    <tr>\n",
              "      <td>14</td>\n",
              "      <td>0.139859</td>\n",
              "      <td>0.198440</td>\n",
              "      <td>00:01</td>\n",
              "    </tr>\n",
              "    <tr>\n",
              "      <td>15</td>\n",
              "      <td>0.134962</td>\n",
              "      <td>0.222745</td>\n",
              "      <td>00:01</td>\n",
              "    </tr>\n",
              "    <tr>\n",
              "      <td>16</td>\n",
              "      <td>0.139814</td>\n",
              "      <td>0.470210</td>\n",
              "      <td>00:01</td>\n",
              "    </tr>\n",
              "    <tr>\n",
              "      <td>17</td>\n",
              "      <td>0.110861</td>\n",
              "      <td>0.277196</td>\n",
              "      <td>00:01</td>\n",
              "    </tr>\n",
              "    <tr>\n",
              "      <td>18</td>\n",
              "      <td>0.107612</td>\n",
              "      <td>0.661586</td>\n",
              "      <td>00:01</td>\n",
              "    </tr>\n",
              "    <tr>\n",
              "      <td>19</td>\n",
              "      <td>0.092779</td>\n",
              "      <td>0.175043</td>\n",
              "      <td>00:01</td>\n",
              "    </tr>\n",
              "    <tr>\n",
              "      <td>20</td>\n",
              "      <td>0.088281</td>\n",
              "      <td>0.171340</td>\n",
              "      <td>00:01</td>\n",
              "    </tr>\n",
              "    <tr>\n",
              "      <td>21</td>\n",
              "      <td>0.067588</td>\n",
              "      <td>0.210204</td>\n",
              "      <td>00:01</td>\n",
              "    </tr>\n",
              "    <tr>\n",
              "      <td>22</td>\n",
              "      <td>0.076286</td>\n",
              "      <td>0.191330</td>\n",
              "      <td>00:01</td>\n",
              "    </tr>\n",
              "    <tr>\n",
              "      <td>23</td>\n",
              "      <td>0.087452</td>\n",
              "      <td>0.176677</td>\n",
              "      <td>00:01</td>\n",
              "    </tr>\n",
              "    <tr>\n",
              "      <td>24</td>\n",
              "      <td>0.072941</td>\n",
              "      <td>0.172472</td>\n",
              "      <td>00:01</td>\n",
              "    </tr>\n",
              "    <tr>\n",
              "      <td>25</td>\n",
              "      <td>0.051474</td>\n",
              "      <td>0.177094</td>\n",
              "      <td>00:01</td>\n",
              "    </tr>\n",
              "    <tr>\n",
              "      <td>26</td>\n",
              "      <td>0.035607</td>\n",
              "      <td>0.210060</td>\n",
              "      <td>00:01</td>\n",
              "    </tr>\n",
              "    <tr>\n",
              "      <td>27</td>\n",
              "      <td>0.051260</td>\n",
              "      <td>0.151550</td>\n",
              "      <td>00:01</td>\n",
              "    </tr>\n",
              "    <tr>\n",
              "      <td>28</td>\n",
              "      <td>0.037673</td>\n",
              "      <td>0.316378</td>\n",
              "      <td>00:01</td>\n",
              "    </tr>\n",
              "    <tr>\n",
              "      <td>29</td>\n",
              "      <td>0.028149</td>\n",
              "      <td>0.128800</td>\n",
              "      <td>00:01</td>\n",
              "    </tr>\n",
              "    <tr>\n",
              "      <td>30</td>\n",
              "      <td>0.022466</td>\n",
              "      <td>0.135755</td>\n",
              "      <td>00:01</td>\n",
              "    </tr>\n",
              "    <tr>\n",
              "      <td>31</td>\n",
              "      <td>0.019444</td>\n",
              "      <td>0.169954</td>\n",
              "      <td>00:01</td>\n",
              "    </tr>\n",
              "    <tr>\n",
              "      <td>32</td>\n",
              "      <td>0.017300</td>\n",
              "      <td>0.178734</td>\n",
              "      <td>00:01</td>\n",
              "    </tr>\n",
              "    <tr>\n",
              "      <td>33</td>\n",
              "      <td>0.016338</td>\n",
              "      <td>0.177509</td>\n",
              "      <td>00:01</td>\n",
              "    </tr>\n",
              "    <tr>\n",
              "      <td>34</td>\n",
              "      <td>0.012790</td>\n",
              "      <td>0.138578</td>\n",
              "      <td>00:01</td>\n",
              "    </tr>\n",
              "    <tr>\n",
              "      <td>35</td>\n",
              "      <td>0.012273</td>\n",
              "      <td>0.163377</td>\n",
              "      <td>00:01</td>\n",
              "    </tr>\n",
              "    <tr>\n",
              "      <td>36</td>\n",
              "      <td>0.010980</td>\n",
              "      <td>0.145991</td>\n",
              "      <td>00:01</td>\n",
              "    </tr>\n",
              "    <tr>\n",
              "      <td>37</td>\n",
              "      <td>0.008938</td>\n",
              "      <td>0.139874</td>\n",
              "      <td>00:01</td>\n",
              "    </tr>\n",
              "    <tr>\n",
              "      <td>38</td>\n",
              "      <td>0.008169</td>\n",
              "      <td>0.178221</td>\n",
              "      <td>00:01</td>\n",
              "    </tr>\n",
              "    <tr>\n",
              "      <td>39</td>\n",
              "      <td>0.007275</td>\n",
              "      <td>0.146729</td>\n",
              "      <td>00:01</td>\n",
              "    </tr>\n",
              "    <tr>\n",
              "      <td>40</td>\n",
              "      <td>0.006655</td>\n",
              "      <td>0.139973</td>\n",
              "      <td>00:01</td>\n",
              "    </tr>\n",
              "    <tr>\n",
              "      <td>41</td>\n",
              "      <td>0.006060</td>\n",
              "      <td>0.146733</td>\n",
              "      <td>00:01</td>\n",
              "    </tr>\n",
              "    <tr>\n",
              "      <td>42</td>\n",
              "      <td>0.005889</td>\n",
              "      <td>0.143635</td>\n",
              "      <td>00:01</td>\n",
              "    </tr>\n",
              "    <tr>\n",
              "      <td>43</td>\n",
              "      <td>0.005425</td>\n",
              "      <td>0.138776</td>\n",
              "      <td>00:01</td>\n",
              "    </tr>\n",
              "    <tr>\n",
              "      <td>44</td>\n",
              "      <td>0.004768</td>\n",
              "      <td>0.160691</td>\n",
              "      <td>00:01</td>\n",
              "    </tr>\n",
              "    <tr>\n",
              "      <td>45</td>\n",
              "      <td>0.004725</td>\n",
              "      <td>0.152643</td>\n",
              "      <td>00:01</td>\n",
              "    </tr>\n",
              "    <tr>\n",
              "      <td>46</td>\n",
              "      <td>0.004515</td>\n",
              "      <td>0.149494</td>\n",
              "      <td>00:01</td>\n",
              "    </tr>\n",
              "    <tr>\n",
              "      <td>47</td>\n",
              "      <td>0.005001</td>\n",
              "      <td>0.149692</td>\n",
              "      <td>00:01</td>\n",
              "    </tr>\n",
              "    <tr>\n",
              "      <td>48</td>\n",
              "      <td>0.004540</td>\n",
              "      <td>0.150122</td>\n",
              "      <td>00:01</td>\n",
              "    </tr>\n",
              "    <tr>\n",
              "      <td>49</td>\n",
              "      <td>0.004346</td>\n",
              "      <td>0.147467</td>\n",
              "      <td>00:01</td>\n",
              "    </tr>\n",
              "  </tbody>\n",
              "</table>"
            ],
            "text/plain": [
              "<IPython.core.display.HTML object>"
            ]
          },
          "metadata": {
            "tags": []
          }
        }
      ]
    },
    {
      "cell_type": "code",
      "metadata": {
        "id": "-d8Plu4HhzYN",
        "colab_type": "code",
        "colab": {
          "base_uri": "https://localhost:8080/",
          "height": 170
        },
        "outputId": "2600e22a-5473-4b9f-b757-b25667321d56"
      },
      "source": [
        "show_output()"
      ],
      "execution_count": 84,
      "outputs": [
        {
          "output_type": "stream",
          "text": [
            "Actual  |                                  Prediction                                  | Cleaned \n",
            "mfb3x   |  ...............f........ff....b............3........x...................... |  ffb3x\n",
            "2npg6   |  ................22...........pp.......gg....6.............................. |  2pg6\n",
            "d7c5x   |  ................dd.......7......cc..55..........xx......................... |  d7c5x\n",
            "77n6g   |  ................7......77.........66..........g............................ |  776g\n",
            "6gnm3   |  ............66.........gg.......n.....m........33.......................... |  6gnm3\n",
            "gwnm6   |  ..............ggg......ww........n.......n........6........................ |  gwnn6\n",
            "7gp47   |  ................77.....gg......p......44.........7......................... |  7gp47\n",
            "yw667   |  .................y.......ww.......6.......66..........777.................. |  yw667\n"
          ],
          "name": "stdout"
        }
      ]
    },
    {
      "cell_type": "markdown",
      "metadata": {
        "id": "ngCmwpTJcGbc",
        "colab_type": "text"
      },
      "source": [
        "The CNN only model cannot seem to get the accuracy of the mixed CNN / RNN model but suprisingly does a pretty reasonable job. "
      ]
    },
    {
      "cell_type": "markdown",
      "metadata": {
        "id": "9c3kYL1I19LL",
        "colab_type": "text"
      },
      "source": [
        "It should be easy to see the core strength of Fastai allows quick experimentation. It is easy to take a model and test (and abandon) different approaches. This is a toy example but the ability to simply add the head of a  XResnet18 backbone to simplify the model code and play around really helpped me to gain confidence in experimentation. "
      ]
    }
  ]
}