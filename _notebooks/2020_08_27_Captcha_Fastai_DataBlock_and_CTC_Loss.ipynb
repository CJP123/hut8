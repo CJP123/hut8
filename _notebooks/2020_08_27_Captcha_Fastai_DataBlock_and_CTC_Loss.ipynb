{
  "nbformat": 4,
  "nbformat_minor": 0,
  "metadata": {
    "colab": {
      "name": "2020-08-27-Captcha-Fastai-DataBlock-and-CTC-Loss",
      "provenance": [],
      "collapsed_sections": [],
      "machine_shape": "hm",
      "authorship_tag": "ABX9TyPh+TbgtOU/LJ2UxnPWvcpi",
      "include_colab_link": true
    },
    "kernelspec": {
      "name": "python3",
      "display_name": "Python 3"
    },
    "accelerator": "GPU"
  },
  "cells": [
    {
      "cell_type": "markdown",
      "metadata": {
        "id": "view-in-github",
        "colab_type": "text"
      },
      "source": [
        "<a href=\"https://colab.research.google.com/github/CJP123/hut8/blob/master/_notebooks/2020_08_27_Captcha_Fastai_DataBlock_and_CTC_Loss.ipynb\" target=\"_parent\"><img src=\"https://colab.research.google.com/assets/colab-badge.svg\" alt=\"Open In Colab\"/></a>"
      ]
    },
    {
      "cell_type": "markdown",
      "metadata": {
        "id": "5of52mWHoNam",
        "colab_type": "text"
      },
      "source": [
        "#Introduction\n",
        "This example builds on a couple of great tutorials that demonstrate a simple OCR models. One in Keras by [Aakash Kumar Nain](https://keras.io/examples/vision/captcha_ocr/) and a very helpful conversion to pytorch by [\n",
        "Abhishek Thakur](https://www.youtube.com/watch?v=IcLEJB2pY2Y). I wanted to get a working knowledge of the CTC loss and also practice using a custom [FastAI](https://docs.fast.ai/tutorial.datablock) datablock"
      ]
    },
    {
      "cell_type": "code",
      "metadata": {
        "id": "NDUvHBzxQ46t",
        "colab_type": "code",
        "colab": {
          "base_uri": "https://localhost:8080/",
          "height": 34
        },
        "outputId": "1feb668a-1ce3-40fb-c6ed-a7f2bd71207c"
      },
      "source": [
        "!pip install -U fastai --quiet"
      ],
      "execution_count": null,
      "outputs": [
        {
          "output_type": "stream",
          "text": [
            "\u001b[?25l\r\u001b[K     |█                               | 10kB 27.4MB/s eta 0:00:01\r\u001b[K     |█▉                              | 20kB 1.7MB/s eta 0:00:01\r\u001b[K     |██▉                             | 30kB 2.3MB/s eta 0:00:01\r\u001b[K     |███▊                            | 40kB 2.5MB/s eta 0:00:01\r\u001b[K     |████▊                           | 51kB 2.0MB/s eta 0:00:01\r\u001b[K     |█████▋                          | 61kB 2.3MB/s eta 0:00:01\r\u001b[K     |██████▌                         | 71kB 2.5MB/s eta 0:00:01\r\u001b[K     |███████▌                        | 81kB 2.7MB/s eta 0:00:01\r\u001b[K     |████████▍                       | 92kB 2.9MB/s eta 0:00:01\r\u001b[K     |█████████▍                      | 102kB 2.8MB/s eta 0:00:01\r\u001b[K     |██████████▎                     | 112kB 2.8MB/s eta 0:00:01\r\u001b[K     |███████████▏                    | 122kB 2.8MB/s eta 0:00:01\r\u001b[K     |████████████▏                   | 133kB 2.8MB/s eta 0:00:01\r\u001b[K     |█████████████                   | 143kB 2.8MB/s eta 0:00:01\r\u001b[K     |██████████████                  | 153kB 2.8MB/s eta 0:00:01\r\u001b[K     |███████████████                 | 163kB 2.8MB/s eta 0:00:01\r\u001b[K     |███████████████▉                | 174kB 2.8MB/s eta 0:00:01\r\u001b[K     |████████████████▉               | 184kB 2.8MB/s eta 0:00:01\r\u001b[K     |█████████████████▊              | 194kB 2.8MB/s eta 0:00:01\r\u001b[K     |██████████████████▊             | 204kB 2.8MB/s eta 0:00:01\r\u001b[K     |███████████████████▋            | 215kB 2.8MB/s eta 0:00:01\r\u001b[K     |████████████████████▌           | 225kB 2.8MB/s eta 0:00:01\r\u001b[K     |█████████████████████▌          | 235kB 2.8MB/s eta 0:00:01\r\u001b[K     |██████████████████████▍         | 245kB 2.8MB/s eta 0:00:01\r\u001b[K     |███████████████████████▍        | 256kB 2.8MB/s eta 0:00:01\r\u001b[K     |████████████████████████▎       | 266kB 2.8MB/s eta 0:00:01\r\u001b[K     |█████████████████████████▏      | 276kB 2.8MB/s eta 0:00:01\r\u001b[K     |██████████████████████████▏     | 286kB 2.8MB/s eta 0:00:01\r\u001b[K     |███████████████████████████     | 296kB 2.8MB/s eta 0:00:01\r\u001b[K     |████████████████████████████    | 307kB 2.8MB/s eta 0:00:01\r\u001b[K     |█████████████████████████████   | 317kB 2.8MB/s eta 0:00:01\r\u001b[K     |██████████████████████████████  | 327kB 2.8MB/s eta 0:00:01\r\u001b[K     |██████████████████████████████▉ | 337kB 2.8MB/s eta 0:00:01\r\u001b[K     |███████████████████████████████▊| 348kB 2.8MB/s eta 0:00:01\r\u001b[K     |████████████████████████████████| 358kB 2.8MB/s \n",
            "\u001b[?25h"
          ],
          "name": "stdout"
        }
      ]
    },
    {
      "cell_type": "markdown",
      "metadata": {
        "id": "t8AIAe1-qDKG",
        "colab_type": "text"
      },
      "source": [
        "Lets download and look at one of the images from the dataset"
      ]
    },
    {
      "cell_type": "code",
      "metadata": {
        "id": "J1d9nhNu8r5O",
        "colab_type": "code",
        "colab": {}
      },
      "source": [
        "from fastai.vision.all import *\n",
        "from itertools import groupby"
      ],
      "execution_count": null,
      "outputs": []
    },
    {
      "cell_type": "code",
      "metadata": {
        "id": "nWGW9zdDRA0Z",
        "colab_type": "code",
        "colab": {
          "base_uri": "https://localhost:8080/",
          "height": 102
        },
        "outputId": "cfa8e4d8-8348-465d-c6ee-e94f893d8847"
      },
      "source": [
        "!curl -LO https://github.com/AakashKumarNain/CaptchaCracker/raw/master/captcha_images_v2.zip\n",
        "!unzip -qq captcha_images_v2.zip"
      ],
      "execution_count": null,
      "outputs": [
        {
          "output_type": "stream",
          "text": [
            "  % Total    % Received % Xferd  Average Speed   Time    Time     Time  Current\n",
            "                                 Dload  Upload   Total   Spent    Left  Speed\n",
            "100   159  100   159    0     0    228      0 --:--:-- --:--:-- --:--:--   228\n",
            "100 8863k  100 8863k    0     0  3719k      0  0:00:02  0:00:02 --:--:-- 17.7M\n",
            "replace captcha_images_v2/ydd3g.png? [y]es, [n]o, [A]ll, [N]one, [r]ename: N\n"
          ],
          "name": "stdout"
        }
      ]
    },
    {
      "cell_type": "code",
      "metadata": {
        "id": "JoOurmYMqrr3",
        "colab_type": "code",
        "colab": {
          "base_uri": "https://localhost:8080/",
          "height": 84
        },
        "outputId": "27a93f2a-51e5-4601-b0a3-e97ef30d703d"
      },
      "source": [
        "#hide\n",
        "path = Path('captcha_images_v2') \n",
        "fns = get_image_files(path) \n",
        "print(fns[0].name)\n",
        "Image.open(fns[0])"
      ],
      "execution_count": null,
      "outputs": [
        {
          "output_type": "stream",
          "text": [
            "8g4yp.png\n"
          ],
          "name": "stdout"
        },
        {
          "output_type": "execute_result",
          "data": {
            "image/png": "[encoded data removed]",
            "text/plain": [
              "<PIL.PngImagePlugin.PngImageFile image mode=RGBA size=200x50 at 0x7F1007FB6CF8>"
            ]
          },
          "metadata": {
            "tags": []
          },
          "execution_count": 4
        }
      ]
    },
    {
      "cell_type": "markdown",
      "metadata": {
        "id": "x9r1KHCgFtYk",
        "colab_type": "text"
      },
      "source": [
        "# Connectionist Temporal Classification (CTC) \n",
        "Is a loss mechanism that is a way to get around not knowing the alignment between the input and the output. The filenames set out the Captcha image letters. In this dataset all the images are 5 characters long but as detailled in the linked paper [CTC Loss](\n",
        "https://distill.pub/2017/ctc/) this is not essential and CTC loss can manage variable length targets."
      ]
    },
    {
      "cell_type": "markdown",
      "metadata": {
        "id": "LaDGidC1tHlq",
        "colab_type": "text"
      },
      "source": [
        "# Fastai Datablock\n",
        "This problem requires an ordered target reflecting the characters which is not a default datablock option. I was keen to see how easy it was to generate one that could be used for this problem - the CaptchaBlock"
      ]
    },
    {
      "cell_type": "code",
      "metadata": {
        "id": "0EsPMUnVD307",
        "colab_type": "code",
        "colab": {}
      },
      "source": [
        "class TensorCaptcha(TensorCategory): pass #Create a Tensor \n",
        "\n",
        "def CaptchaBlock(vocab=None):\n",
        "    \"`TransformBlock` for Captcha categorical targets\"\n",
        "    tfm = CaptchaCategorize(vocab=vocab)\n",
        "    return TransformBlock(type_tfms=tfm)\n",
        "\n",
        "class CaptchaCategorize(Categorize):\n",
        "    \"Transform of encoded Captcha-category that decodes with `vocab`\"\n",
        "    def __init__(self, vocab=None, sort=True, add_na=False):\n",
        "        store_attr(self, self.store_attrs+',sort')\n",
        "        self.vocab = None if vocab is None else CategoryMap(vocab, sort=sort, add_na=add_na)\n",
        "    \n",
        "    def encodes(self, o): \n",
        "      return TensorCaptcha(torch.stack([tensor(self.vocab.o2i[x]) for x in o])) #generates a new tensor encoding the labels \n",
        "\n",
        "    def decodes(self, o): \n",
        "      return CaptchaCategory(('').join([Category(self.vocab[x]) for x in o])) #decodes the TensorCaptcha and returns a clean string\n",
        "\n",
        "class CaptchaCategory(L):\n",
        "    def show(self, ctx=None, sep=';', color='black', **kwargs):\n",
        "        return show_title(sep.join(self.map(str)), ctx=ctx, color=color, **kwargs)\n"
      ],
      "execution_count": null,
      "outputs": []
    },
    {
      "cell_type": "markdown",
      "metadata": {
        "id": "FZlFCeVnuzOx",
        "colab_type": "text"
      },
      "source": [
        "I am not certain that this code utilises all the fastai functionalyity but it is sufficient for the purposes of this experiment"
      ]
    },
    {
      "cell_type": "code",
      "metadata": {
        "id": "cb3fInl5viFL",
        "colab_type": "code",
        "colab": {}
      },
      "source": [
        ""
      ],
      "execution_count": null,
      "outputs": []
    },
    {
      "cell_type": "markdown",
      "metadata": {
        "id": "XPyCf88jviaU",
        "colab_type": "text"
      },
      "source": [
        "#"
      ]
    },
    {
      "cell_type": "code",
      "metadata": {
        "id": "SDHonw5ZRZq6",
        "colab_type": "code",
        "colab": {
          "base_uri": "https://localhost:8080/",
          "height": 34
        },
        "outputId": "972b358f-d1a8-40f8-a6b8-ff0afab59ef0"
      },
      "source": [
        ""
      ],
      "execution_count": null,
      "outputs": [
        {
          "output_type": "execute_result",
          "data": {
            "text/plain": [
              "(#20) ['.','m','7','e','n','g','p','x','c','3'...]"
            ]
          },
          "metadata": {
            "tags": []
          },
          "execution_count": 19
        }
      ]
    },
    {
      "cell_type": "code",
      "metadata": {
        "id": "82uhVM1u3ClA",
        "colab_type": "code",
        "colab": {}
      },
      "source": [
        "# class TensorCaptcha(TensorCategory): pass #Create a Tensor \n",
        "\n",
        "# class CategorizeCaptcha(Transform): #DisplayedTransform\n",
        "#     \"Reversible transform of category string to `vocab` id\"\n",
        "#     loss_func,order,store_attrs=CrossEntropyLossFlat(),1,'vocab,add_na'\n",
        "#     def __init__(self, vocab=None, sort=True, add_na=False):\n",
        "#         store_attr(self, self.store_attrs+',sort')\n",
        "#         self.vocab = None if vocab is None else CategoryMap(vocab, sort=sort, add_na=add_na)\n",
        "\n",
        "#     def setups(self, dsets):\n",
        "#         if self.vocab is None and dsets is not None: self.vocab = CategoryMap(dsets, sort=self.sort, add_na=self.add_na)\n",
        "#         self.c = len(self.vocab)\n",
        "\n",
        "#     def encodes(self, o): \n",
        "#       return TensorCaptcha(torch.stack([tensor(self.vocab.o2i[x]) for x in o]))\n",
        "#     def decodes(self, o): \n",
        "#       return ('').join([Category(self.vocab[x]) for x in o])# [dls.vocab[x]) for x in preds]\n",
        "\n",
        "# def CaptchaBlock(vocab=None, sort=True, add_na=False):\n",
        "#     \"`TransformBlock` to split label into ordered label categorical targets\"\n",
        "#     return TransformBlock(type_tfms=CategorizeCaptcha(vocab=vocab, sort=sort, add_na=add_na))"
      ],
      "execution_count": null,
      "outputs": []
    },
    {
      "cell_type": "code",
      "metadata": {
        "id": "z-tH23VYG-mY",
        "colab_type": "code",
        "colab": {}
      },
      "source": [
        "# class Captcha(Transform): #DisplayedTransform\n",
        "#     \"Reversible transform of category string to `vocab` id\"\n",
        "#     loss_func,order,store_attrs=CrossEntropyLossFlat(),1,'vocab,add_na'\n",
        "#     def __init__(self, vocab=None, sort=True, add_na=False):\n",
        "#         store_attr(self, self.store_attrs+',sort')\n",
        "#         self.vocab = None if vocab is None else CategoryMap(vocab, sort=sort, add_na=add_na)\n",
        "\n",
        "#     def setups(self, dsets):\n",
        "#         if self.vocab is None and dsets is not None: self.vocab = CategoryMap(dsets, sort=self.sort, add_na=self.add_na)\n",
        "#         self.c = len(self.vocab)\n",
        "\n",
        "#     def encodes(self, o): \n",
        "#       return TensorCaptcha([tensor(self.vocab.o2i[x]) for x in o])\n",
        "\n",
        "#     def decodes(self, o): \n",
        "#       return ('').join([Category(self.vocab[x]) for x in o])"
      ],
      "execution_count": null,
      "outputs": []
    },
    {
      "cell_type": "code",
      "metadata": {
        "id": "7zve6rxd-tiS",
        "colab_type": "code",
        "colab": {
          "base_uri": "https://localhost:8080/",
          "height": 232
        },
        "outputId": "b2dadb95-eb31-48b9-a3ed-c33805169bec"
      },
      "source": [
        "# tfm = CaptchaBlock(vocab=vocab)\n",
        "# raw = stm(fns[0])\n",
        "# encoded = tfm(raw)\n",
        "# decoded = tfm.decode(encoded)\n",
        "# assert(raw == decoded)\n",
        "# print('Input: ', raw)\n",
        "# print('Encoded: ', encoded)\n",
        "# print('Decoded: ', decoded)"
      ],
      "execution_count": null,
      "outputs": [
        {
          "output_type": "error",
          "ename": "TypeError",
          "evalue": "ignored",
          "traceback": [
            "\u001b[0;31m---------------------------------------------------------------------------\u001b[0m",
            "\u001b[0;31mTypeError\u001b[0m                                 Traceback (most recent call last)",
            "\u001b[0;32m<ipython-input-208-183eaa3db105>\u001b[0m in \u001b[0;36m<module>\u001b[0;34m()\u001b[0m\n\u001b[1;32m      1\u001b[0m \u001b[0mtfm\u001b[0m \u001b[0;34m=\u001b[0m \u001b[0mCaptchaBlock\u001b[0m\u001b[0;34m(\u001b[0m\u001b[0mvocab\u001b[0m\u001b[0;34m=\u001b[0m\u001b[0mvocab\u001b[0m\u001b[0;34m)\u001b[0m\u001b[0;34m\u001b[0m\u001b[0;34m\u001b[0m\u001b[0m\n\u001b[1;32m      2\u001b[0m \u001b[0mraw\u001b[0m \u001b[0;34m=\u001b[0m \u001b[0mstm\u001b[0m\u001b[0;34m(\u001b[0m\u001b[0mfns\u001b[0m\u001b[0;34m[\u001b[0m\u001b[0;36m0\u001b[0m\u001b[0;34m]\u001b[0m\u001b[0;34m)\u001b[0m\u001b[0;34m\u001b[0m\u001b[0;34m\u001b[0m\u001b[0m\n\u001b[0;32m----> 3\u001b[0;31m \u001b[0mencoded\u001b[0m \u001b[0;34m=\u001b[0m \u001b[0mtfm\u001b[0m\u001b[0;34m(\u001b[0m\u001b[0mraw\u001b[0m\u001b[0;34m)\u001b[0m\u001b[0;34m\u001b[0m\u001b[0;34m\u001b[0m\u001b[0m\n\u001b[0m\u001b[1;32m      4\u001b[0m \u001b[0mdecoded\u001b[0m \u001b[0;34m=\u001b[0m \u001b[0mtfm\u001b[0m\u001b[0;34m.\u001b[0m\u001b[0mdecode\u001b[0m\u001b[0;34m(\u001b[0m\u001b[0mencoded\u001b[0m\u001b[0;34m)\u001b[0m\u001b[0;34m\u001b[0m\u001b[0;34m\u001b[0m\u001b[0m\n\u001b[1;32m      5\u001b[0m \u001b[0;32massert\u001b[0m\u001b[0;34m(\u001b[0m\u001b[0mraw\u001b[0m \u001b[0;34m==\u001b[0m \u001b[0mdecoded\u001b[0m\u001b[0;34m)\u001b[0m\u001b[0;34m\u001b[0m\u001b[0;34m\u001b[0m\u001b[0m\n",
            "\u001b[0;31mTypeError\u001b[0m: 'TransformBlock' object is not callable"
          ]
        }
      ]
    },
    {
      "cell_type": "code",
      "metadata": {
        "id": "CRVRFjnfvorR",
        "colab_type": "code",
        "colab": {}
      },
      "source": [
        ""
      ],
      "execution_count": null,
      "outputs": []
    },
    {
      "cell_type": "markdown",
      "metadata": {
        "id": "L1kuDNlqvpGg",
        "colab_type": "text"
      },
      "source": [
        "# Datablock\n",
        "Set up a new dataloader using the new CaptchaBlock"
      ]
    },
    {
      "cell_type": "code",
      "metadata": {
        "id": "jho22AZu5En9",
        "colab_type": "code",
        "colab": {}
      },
      "source": [
        "def stem_label(o): return o.stem"
      ],
      "execution_count": null,
      "outputs": []
    },
    {
      "cell_type": "code",
      "metadata": {
        "id": "DUhoReMvvuWY",
        "colab_type": "code",
        "colab": {
          "base_uri": "https://localhost:8080/",
          "height": 34
        },
        "outputId": "b3b570f4-9802-4ce9-8052-47cd95071b7f"
      },
      "source": [
        "# Set up the required vocab from the filenames titles. \n",
        "# '.' has been added to the front of the vocab to represent the \"blank\" or null character \n",
        "vocab = L('.')+L(set([x for x in ('').join([x.stem for x in fns])]))\n",
        "vocab"
      ],
      "execution_count": null,
      "outputs": [
        {
          "output_type": "execute_result",
          "data": {
            "text/plain": [
              "(#20) ['.','w','m','2','c','7','4','d','n','3'...]"
            ]
          },
          "metadata": {
            "tags": []
          },
          "execution_count": 10
        }
      ]
    },
    {
      "cell_type": "code",
      "metadata": {
        "id": "ztlVZnO7-8rN",
        "colab_type": "code",
        "colab": {}
      },
      "source": [
        "captcha = DataBlock(blocks =(ImageBlock(cls=PILImageBW), (CaptchaBlock(vocab=vocab))),\n",
        "                 get_items=get_image_files, \n",
        "                 get_y = stem_label,\n",
        "                 splitter=RandomSplitter(seed=42),      \n",
        "                 item_tfms = Resize((75,300))\n",
        "                )\n",
        "dls = captcha.dataloaders(path, bs=8)"
      ],
      "execution_count": null,
      "outputs": []
    },
    {
      "cell_type": "code",
      "metadata": {
        "id": "h80QLSBDE183",
        "colab_type": "code",
        "colab": {
          "base_uri": "https://localhost:8080/",
          "height": 84
        },
        "outputId": "5394c351-1e11-4acf-cbdf-b8b5e9d1cff9"
      },
      "source": [
        "dls.show_batch(max_n=3)"
      ],
      "execution_count": null,
      "outputs": [
        {
          "output_type": "display_data",
          "data": {
            "image/png": "[encoded data removed]",
            "text/plain": [
              "<Figure size 648x216 with 3 Axes>"
            ]
          },
          "metadata": {
            "tags": [],
            "needs_background": "light"
          }
        }
      ]
    },
    {
      "cell_type": "markdown",
      "metadata": {
        "id": "AxBUn6ciwZTn",
        "colab_type": "text"
      },
      "source": [
        "Look at the resulting tensors for one item"
      ]
    },
    {
      "cell_type": "code",
      "metadata": {
        "id": "QeSwK-zawbNm",
        "colab_type": "code",
        "colab": {
          "base_uri": "https://localhost:8080/",
          "height": 153
        },
        "outputId": "445b6961-e278-487d-a6cf-84693473be59"
      },
      "source": [
        "x,y = dls.one_batch()\n",
        "print(x[0],y[0])"
      ],
      "execution_count": null,
      "outputs": [
        {
          "output_type": "stream",
          "text": [
            "tensor([[[0.7529, 0.7529, 0.7529,  ..., 0.9843, 0.9843, 0.9843],\n",
            "         [0.7529, 0.7529, 0.7529,  ..., 0.9843, 0.9843, 0.9843],\n",
            "         [0.7529, 0.7529, 0.7529,  ..., 0.9843, 0.9843, 0.9843],\n",
            "         ...,\n",
            "         [0.7647, 0.7647, 0.7647,  ..., 0.9961, 0.9961, 0.9961],\n",
            "         [0.7647, 0.7647, 0.7647,  ..., 0.9961, 0.9961, 0.9961],\n",
            "         [0.7647, 0.7647, 0.7647,  ..., 0.9961, 0.9961, 0.9961]]],\n",
            "       device='cuda:0') tensor([ 8,  8, 19, 14, 19], device='cuda:0')\n"
          ],
          "name": "stdout"
        }
      ]
    },
    {
      "cell_type": "markdown",
      "metadata": {
        "id": "FNv_h3HtwaIk",
        "colab_type": "text"
      },
      "source": [
        "# First Model\n",
        "My first model attempted to largely duplicates the approach and code used by [Abhishek](https://github.com/abhishekkrthakur/captcha-recognition-pytorch.git)"
      ]
    },
    {
      "cell_type": "code",
      "metadata": {
        "id": "ZBB9hOprn3bT",
        "colab_type": "code",
        "colab": {}
      },
      "source": [
        "class CaptchaModel(nn.Module):\n",
        "  def __init__(self, num_chars=20):\n",
        "    super(CaptchaModel, self).__init__()\n",
        "    self.conv_1 = nn.Conv2d(1, 128, kernel_size=(3, 3), padding=(1, 1))\n",
        "    self.pool_1 = nn.MaxPool2d(kernel_size=(2, 2))\n",
        "    self.conv_2 = nn.Conv2d(128, 64, kernel_size=(3, 3), padding=(1, 1))\n",
        "    self.pool_2 = nn.MaxPool2d(kernel_size=(2, 2))\n",
        "    self.linear_1 = nn.Linear(1152, 64)\n",
        "    self.drop_1 = nn.Dropout(0.2)\n",
        "    self.gru_1 = nn.GRU(64, 32, bidirectional=True, num_layers=2, dropout=0.25,batch_first=True)\n",
        "    self.output = nn.Linear(64, num_chars)\n",
        "\n",
        "  def forward(self, x, targets=None):\n",
        "    # bs, c, h, w = x.size()\n",
        "    x = F.relu(self.conv_1(x))          # bs, channels , height, width\n",
        "    x = self.pool_1(x)\n",
        "    x = F.relu(self.conv_2(x))          \n",
        "    x = self.pool_2(x)                  \n",
        "    x = x.permute(0, 3, 1, 2)           # change the width channel to 'time' channel order for input to the RNN\n",
        "    x = x.view(x.size(0), x.size(1), -1)      \n",
        "    x = F.relu(self.linear_1(x))        # \n",
        "    x = self.drop_1(x)                  # \n",
        "    x, _ = self.gru_1(x)                # \n",
        "    x = self.output(x)                  # \n",
        "    x = x.permute(1,0,2)                #  \n",
        "    return x"
      ],
      "execution_count": null,
      "outputs": []
    },
    {
      "cell_type": "code",
      "metadata": {
        "id": "nypwZPuwAzR0",
        "colab_type": "code",
        "colab": {}
      },
      "source": [
        "def ctc_loss(inputs, targets):\n",
        "  inputs = inputs.permute(1,0,2)                \n",
        "  log_probs = F.log_softmax(inputs, 2)\n",
        "  input_lengths = torch.full(size=(inputs.size(1),), fill_value=inputs.size(0), dtype=torch.int32) # should be bs x rnn output\n",
        "  target_lengths = torch.full(size=(inputs.size(1),), fill_value=tensor(5), dtype=torch.int32)\n",
        "  loss = nn.CTCLoss(blank=0)(\n",
        "          log_probs, targets, input_lengths, target_lengths\n",
        "          )\n",
        "  return loss"
      ],
      "execution_count": null,
      "outputs": []
    },
    {
      "cell_type": "code",
      "metadata": {
        "id": "nxN5qdQ64WkB",
        "colab_type": "code",
        "colab": {}
      },
      "source": [
        "# This function is a simple method to reduce duplicate consecutive predictions generated by the CTC loss model. \n",
        "# The following function removes any duplicates in groups but allows duplicates to be separated by the blank placeholder '.'\n",
        "def strip_duplicates(str):\n",
        "  return ('').join([x for x, y in groupby(str) if sum(1 for i in y) >0 if x != '.'])\n",
        "\n",
        "def show_output():\n",
        "  x,y=dls.valid.one_batch() #get a batch\n",
        "  preds = learn.model(x) #get model predictions\n",
        "  # preds = preds.permute(1, 0, 2) #permute the model to put the batches in order\n",
        "  preds = torch.argmax(torch.softmax(preds, 2), 2)  \n",
        "  decoded = [('').join(dls.vocab[x]) for x in preds]\n",
        "  cleaned = [strip_duplicates(x) for x in decoded]\n",
        "  results = zip(decoded,cleaned,[('').join(dls.vocab[x]) for x in y.detach().cpu().numpy()])\n",
        "  print('Actual  | ',' '*31,'Prediction',' '*32,'| Cleaned ' )\n",
        "  for res in results:\n",
        "    print(res[2],'  | ',f'{res[0]} | ','.....' if len(res[1]) == 0 else res[1])"
      ],
      "execution_count": null,
      "outputs": []
    },
    {
      "cell_type": "code",
      "metadata": {
        "id": "mMmTKN29mbMb",
        "colab_type": "code",
        "colab": {}
      },
      "source": [
        "learn = Learner(dls, CaptchaModel(20), loss_func=ctc_loss, cbs =ReduceLROnPlateau(patience=3))"
      ],
      "execution_count": null,
      "outputs": []
    },
    {
      "cell_type": "code",
      "metadata": {
        "id": "-thzXIW65SJH",
        "colab_type": "code",
        "colab": {
          "base_uri": "https://localhost:8080/",
          "height": 300
        },
        "outputId": "e33acc4f-613d-41e4-cad2-6ca1d8dec768"
      },
      "source": [
        "learn.lr_find()"
      ],
      "execution_count": null,
      "outputs": [
        {
          "output_type": "display_data",
          "data": {
            "text/html": [
              ""
            ],
            "text/plain": [
              "<IPython.core.display.HTML object>"
            ]
          },
          "metadata": {
            "tags": []
          }
        },
        {
          "output_type": "execute_result",
          "data": {
            "text/plain": [
              "SuggestedLRs(lr_min=0.09120108485221863, lr_steep=0.002511886414140463)"
            ]
          },
          "metadata": {
            "tags": []
          },
          "execution_count": 20
        },
        {
          "output_type": "display_data",
          "data": {
            "image/png": "[encoded data removed]",
            "text/plain": [
              "<Figure size 432x288 with 1 Axes>"
            ]
          },
          "metadata": {
            "tags": [],
            "needs_background": "light"
          }
        }
      ]
    },
    {
      "cell_type": "code",
      "metadata": {
        "id": "5_heEkYTsR4o",
        "colab_type": "code",
        "colab": {
          "base_uri": "https://localhost:8080/",
          "height": 1000
        },
        "outputId": "1bc4d97a-787b-4691-86f0-05a9cb7e4462"
      },
      "source": [
        "#hide\n",
        "learn.fit(100,1e-2)"
      ],
      "execution_count": null,
      "outputs": [
        {
          "output_type": "display_data",
          "data": {
            "text/html": [
              "<table border=\"1\" class=\"dataframe\">\n",
              "  <thead>\n",
              "    <tr style=\"text-align: left;\">\n",
              "      <th>epoch</th>\n",
              "      <th>train_loss</th>\n",
              "      <th>valid_loss</th>\n",
              "      <th>time</th>\n",
              "    </tr>\n",
              "  </thead>\n",
              "  <tbody>\n",
              "    <tr>\n",
              "      <td>0</td>\n",
              "      <td>3.513356</td>\n",
              "      <td>3.296777</td>\n",
              "      <td>00:04</td>\n",
              "    </tr>\n",
              "    <tr>\n",
              "      <td>1</td>\n",
              "      <td>3.325741</td>\n",
              "      <td>3.284081</td>\n",
              "      <td>00:04</td>\n",
              "    </tr>\n",
              "    <tr>\n",
              "      <td>2</td>\n",
              "      <td>3.290609</td>\n",
              "      <td>3.233346</td>\n",
              "      <td>00:04</td>\n",
              "    </tr>\n",
              "    <tr>\n",
              "      <td>3</td>\n",
              "      <td>3.278223</td>\n",
              "      <td>3.253587</td>\n",
              "      <td>00:04</td>\n",
              "    </tr>\n",
              "    <tr>\n",
              "      <td>4</td>\n",
              "      <td>3.269069</td>\n",
              "      <td>3.211845</td>\n",
              "      <td>00:04</td>\n",
              "    </tr>\n",
              "    <tr>\n",
              "      <td>5</td>\n",
              "      <td>3.257792</td>\n",
              "      <td>3.227095</td>\n",
              "      <td>00:04</td>\n",
              "    </tr>\n",
              "    <tr>\n",
              "      <td>6</td>\n",
              "      <td>3.237562</td>\n",
              "      <td>3.211173</td>\n",
              "      <td>00:04</td>\n",
              "    </tr>\n",
              "    <tr>\n",
              "      <td>7</td>\n",
              "      <td>3.238216</td>\n",
              "      <td>3.220011</td>\n",
              "      <td>00:04</td>\n",
              "    </tr>\n",
              "    <tr>\n",
              "      <td>8</td>\n",
              "      <td>3.235154</td>\n",
              "      <td>3.230315</td>\n",
              "      <td>00:04</td>\n",
              "    </tr>\n",
              "    <tr>\n",
              "      <td>9</td>\n",
              "      <td>3.205783</td>\n",
              "      <td>3.245116</td>\n",
              "      <td>00:04</td>\n",
              "    </tr>\n",
              "    <tr>\n",
              "      <td>10</td>\n",
              "      <td>3.173560</td>\n",
              "      <td>3.116951</td>\n",
              "      <td>00:04</td>\n",
              "    </tr>\n",
              "    <tr>\n",
              "      <td>11</td>\n",
              "      <td>3.151320</td>\n",
              "      <td>3.118995</td>\n",
              "      <td>00:04</td>\n",
              "    </tr>\n",
              "    <tr>\n",
              "      <td>12</td>\n",
              "      <td>3.137065</td>\n",
              "      <td>3.103161</td>\n",
              "      <td>00:04</td>\n",
              "    </tr>\n",
              "    <tr>\n",
              "      <td>13</td>\n",
              "      <td>3.113532</td>\n",
              "      <td>3.062905</td>\n",
              "      <td>00:04</td>\n",
              "    </tr>\n",
              "    <tr>\n",
              "      <td>14</td>\n",
              "      <td>3.091424</td>\n",
              "      <td>3.046040</td>\n",
              "      <td>00:04</td>\n",
              "    </tr>\n",
              "    <tr>\n",
              "      <td>15</td>\n",
              "      <td>3.066970</td>\n",
              "      <td>3.012914</td>\n",
              "      <td>00:04</td>\n",
              "    </tr>\n",
              "    <tr>\n",
              "      <td>16</td>\n",
              "      <td>3.036609</td>\n",
              "      <td>2.987880</td>\n",
              "      <td>00:04</td>\n",
              "    </tr>\n",
              "    <tr>\n",
              "      <td>17</td>\n",
              "      <td>3.020095</td>\n",
              "      <td>2.977858</td>\n",
              "      <td>00:04</td>\n",
              "    </tr>\n",
              "    <tr>\n",
              "      <td>18</td>\n",
              "      <td>3.003537</td>\n",
              "      <td>2.968774</td>\n",
              "      <td>00:04</td>\n",
              "    </tr>\n",
              "    <tr>\n",
              "      <td>19</td>\n",
              "      <td>2.990083</td>\n",
              "      <td>2.960504</td>\n",
              "      <td>00:04</td>\n",
              "    </tr>\n",
              "    <tr>\n",
              "      <td>20</td>\n",
              "      <td>2.982547</td>\n",
              "      <td>2.954978</td>\n",
              "      <td>00:04</td>\n",
              "    </tr>\n",
              "    <tr>\n",
              "      <td>21</td>\n",
              "      <td>2.975816</td>\n",
              "      <td>2.945886</td>\n",
              "      <td>00:04</td>\n",
              "    </tr>\n",
              "    <tr>\n",
              "      <td>22</td>\n",
              "      <td>2.960783</td>\n",
              "      <td>2.940623</td>\n",
              "      <td>00:04</td>\n",
              "    </tr>\n",
              "    <tr>\n",
              "      <td>23</td>\n",
              "      <td>2.967836</td>\n",
              "      <td>2.938909</td>\n",
              "      <td>00:04</td>\n",
              "    </tr>\n",
              "    <tr>\n",
              "      <td>24</td>\n",
              "      <td>2.950795</td>\n",
              "      <td>2.934271</td>\n",
              "      <td>00:04</td>\n",
              "    </tr>\n",
              "    <tr>\n",
              "      <td>25</td>\n",
              "      <td>2.945017</td>\n",
              "      <td>2.933121</td>\n",
              "      <td>00:04</td>\n",
              "    </tr>\n",
              "    <tr>\n",
              "      <td>26</td>\n",
              "      <td>2.949578</td>\n",
              "      <td>2.933223</td>\n",
              "      <td>00:04</td>\n",
              "    </tr>\n",
              "    <tr>\n",
              "      <td>27</td>\n",
              "      <td>2.950704</td>\n",
              "      <td>2.929582</td>\n",
              "      <td>00:04</td>\n",
              "    </tr>\n",
              "    <tr>\n",
              "      <td>28</td>\n",
              "      <td>2.946957</td>\n",
              "      <td>2.925133</td>\n",
              "      <td>00:04</td>\n",
              "    </tr>\n",
              "    <tr>\n",
              "      <td>29</td>\n",
              "      <td>2.944261</td>\n",
              "      <td>2.924168</td>\n",
              "      <td>00:04</td>\n",
              "    </tr>\n",
              "    <tr>\n",
              "      <td>30</td>\n",
              "      <td>2.939963</td>\n",
              "      <td>2.933242</td>\n",
              "      <td>00:04</td>\n",
              "    </tr>\n",
              "    <tr>\n",
              "      <td>31</td>\n",
              "      <td>2.943925</td>\n",
              "      <td>2.925612</td>\n",
              "      <td>00:04</td>\n",
              "    </tr>\n",
              "    <tr>\n",
              "      <td>32</td>\n",
              "      <td>2.933572</td>\n",
              "      <td>2.923621</td>\n",
              "      <td>00:04</td>\n",
              "    </tr>\n",
              "    <tr>\n",
              "      <td>33</td>\n",
              "      <td>2.931558</td>\n",
              "      <td>2.925763</td>\n",
              "      <td>00:04</td>\n",
              "    </tr>\n",
              "    <tr>\n",
              "      <td>34</td>\n",
              "      <td>2.939754</td>\n",
              "      <td>2.929171</td>\n",
              "      <td>00:04</td>\n",
              "    </tr>\n",
              "    <tr>\n",
              "      <td>35</td>\n",
              "      <td>2.936125</td>\n",
              "      <td>2.922203</td>\n",
              "      <td>00:04</td>\n",
              "    </tr>\n",
              "    <tr>\n",
              "      <td>36</td>\n",
              "      <td>2.935631</td>\n",
              "      <td>2.927695</td>\n",
              "      <td>00:04</td>\n",
              "    </tr>\n",
              "    <tr>\n",
              "      <td>37</td>\n",
              "      <td>2.946695</td>\n",
              "      <td>2.922982</td>\n",
              "      <td>00:04</td>\n",
              "    </tr>\n",
              "    <tr>\n",
              "      <td>38</td>\n",
              "      <td>2.932773</td>\n",
              "      <td>2.929747</td>\n",
              "      <td>00:04</td>\n",
              "    </tr>\n",
              "    <tr>\n",
              "      <td>39</td>\n",
              "      <td>2.930600</td>\n",
              "      <td>2.925368</td>\n",
              "      <td>00:04</td>\n",
              "    </tr>\n",
              "    <tr>\n",
              "      <td>40</td>\n",
              "      <td>2.925734</td>\n",
              "      <td>2.924546</td>\n",
              "      <td>00:04</td>\n",
              "    </tr>\n",
              "    <tr>\n",
              "      <td>41</td>\n",
              "      <td>2.928280</td>\n",
              "      <td>2.923798</td>\n",
              "      <td>00:04</td>\n",
              "    </tr>\n",
              "    <tr>\n",
              "      <td>42</td>\n",
              "      <td>2.925476</td>\n",
              "      <td>2.923936</td>\n",
              "      <td>00:04</td>\n",
              "    </tr>\n",
              "    <tr>\n",
              "      <td>43</td>\n",
              "      <td>2.926088</td>\n",
              "      <td>2.923889</td>\n",
              "      <td>00:04</td>\n",
              "    </tr>\n",
              "    <tr>\n",
              "      <td>44</td>\n",
              "      <td>2.925176</td>\n",
              "      <td>2.923719</td>\n",
              "      <td>00:04</td>\n",
              "    </tr>\n",
              "    <tr>\n",
              "      <td>45</td>\n",
              "      <td>2.920364</td>\n",
              "      <td>2.923717</td>\n",
              "      <td>00:04</td>\n",
              "    </tr>\n",
              "    <tr>\n",
              "      <td>46</td>\n",
              "      <td>2.921222</td>\n",
              "      <td>2.923731</td>\n",
              "      <td>00:04</td>\n",
              "    </tr>\n",
              "    <tr>\n",
              "      <td>47</td>\n",
              "      <td>2.920605</td>\n",
              "      <td>2.923738</td>\n",
              "      <td>00:04</td>\n",
              "    </tr>\n",
              "    <tr>\n",
              "      <td>48</td>\n",
              "      <td>2.923459</td>\n",
              "      <td>2.923739</td>\n",
              "      <td>00:04</td>\n",
              "    </tr>\n",
              "    <tr>\n",
              "      <td>49</td>\n",
              "      <td>2.927446</td>\n",
              "      <td>2.923739</td>\n",
              "      <td>00:04</td>\n",
              "    </tr>\n",
              "  </tbody>\n",
              "</table>"
            ],
            "text/plain": [
              "<IPython.core.display.HTML object>"
            ]
          },
          "metadata": {
            "tags": []
          }
        },
        {
          "output_type": "stream",
          "text": [
            "Epoch 9: reducing lr to 0.001\n",
            "Epoch 38: reducing lr to 0.0001\n",
            "Epoch 41: reducing lr to 1e-05\n",
            "Epoch 44: reducing lr to 1.0000000000000002e-06\n",
            "Epoch 47: reducing lr to 1.0000000000000002e-07\n"
          ],
          "name": "stdout"
        }
      ]
    },
    {
      "cell_type": "markdown",
      "metadata": {
        "id": "ocOnMVH2ytuB",
        "colab_type": "text"
      },
      "source": [
        "Nothing is produced after 50 epochs on the on the validation set."
      ]
    },
    {
      "cell_type": "code",
      "metadata": {
        "id": "AiePzgiFyhgQ",
        "colab_type": "code",
        "colab": {
          "base_uri": "https://localhost:8080/",
          "height": 170
        },
        "outputId": "42c1aa27-10d6-45d1-d825-666d0f2b4f53"
      },
      "source": [
        "show_output()"
      ],
      "execution_count": null,
      "outputs": [
        {
          "output_type": "stream",
          "text": [
            "Actual  |                                  Prediction                                  | Cleaned \n",
            "677g3   |  .................................................................n.n.n.n.n. |  nnnnn\n",
            "wwmn6   |  .................................................................n.n.n.n.n. |  nnnnn\n",
            "nybcx   |  .................................................................n.n.n.n.n. |  nnnnn\n",
            "y866y   |  .................................................................n.n.n.n.n. |  nnnnn\n",
            "fnbfw   |  .................................................................n.n.n.n.n. |  nnnnn\n",
            "pg2yx   |  .................................................................n.n.n.n.n. |  nnnnn\n",
            "n7g4f   |  .................................................................n.n.n.n.n. |  nnnnn\n",
            "pcm7f   |  .................................................................n.n.n.n.n. |  nnnnn\n"
          ],
          "name": "stdout"
        }
      ]
    },
    {
      "cell_type": "markdown",
      "metadata": {
        "id": "ydPEnCP12fmX",
        "colab_type": "text"
      },
      "source": [
        "# CNN Only Model\n",
        "The model above combines a CNN and RNN. The CNN is permuted and reshaped before entering the RNN so that it already should have some sense of \"time\" order to feed into the CTC loss even without the RNN. This model will remove the RNN from the model and see if can still learn."
      ]
    },
    {
      "cell_type": "code",
      "metadata": {
        "id": "4LGsRdJ-hzeU",
        "colab_type": "code",
        "colab": {}
      },
      "source": [
        "class CaptchaModel2(nn.Module):\n",
        "  def __init__(self, num_chars=20):\n",
        "    super(CaptchaModel2, self).__init__()\n",
        "    self.conv_1 = nn.Conv2d(1, 128, kernel_size=(3, 3), padding=(1, 1))\n",
        "    self.pool_1 = nn.MaxPool2d(kernel_size=(2, 2))\n",
        "    self.conv_2 = nn.Conv2d(128, 64, kernel_size=(3, 3), padding=(1, 1))\n",
        "    self.pool_2 = nn.MaxPool2d(kernel_size=(2, 2))\n",
        "    self.drop_1 = nn.Dropout(0.2)\n",
        "    self.linear_1 = nn.Linear(1152, 128)\n",
        "    self.output = nn.Linear(128, num_chars)\n",
        "\n",
        "  def forward(self, x, targets=None):\n",
        "    x = F.relu(self.conv_1(x))          # bs, channels , height, width\n",
        "    x = self.pool_1(x)\n",
        "    x = F.relu(self.conv_2(x))          \n",
        "    x = self.pool_2(x)                  \n",
        "    x = x.permute(0, 3, 1, 2)           # change the width channel to , h, c\n",
        "    x = x.view(x.size(0),x.size(1),-1)  # 16, 50, 768    bs, w, hc\n",
        "    x = F.relu(self.linear_1(x))        # 16, 50, 128    bs, w, hc\n",
        "    x = self.drop_1(x)                  # 16, 50, 19+1    bs, w, hc\n",
        "    x = self.output(x)                  # 16, 50, 19+1    bs, w, hc\n",
        "    return x"
      ],
      "execution_count": null,
      "outputs": []
    },
    {
      "cell_type": "code",
      "metadata": {
        "id": "YH88Z7i4hzmc",
        "colab_type": "code",
        "colab": {}
      },
      "source": [
        "learn = Learner(dls, CaptchaModel2(20), loss_func=ctc_loss, cbs=ReduceLROnPlateau(patience=3))"
      ],
      "execution_count": null,
      "outputs": []
    },
    {
      "cell_type": "code",
      "metadata": {
        "id": "Nu_pSYw14uU3",
        "colab_type": "code",
        "colab": {
          "base_uri": "https://localhost:8080/",
          "height": 300
        },
        "outputId": "9f3f4cc5-b64e-47ba-a7eb-8b62c8b927ec"
      },
      "source": [
        "learn.lr_find()"
      ],
      "execution_count": null,
      "outputs": [
        {
          "output_type": "display_data",
          "data": {
            "text/html": [
              ""
            ],
            "text/plain": [
              "<IPython.core.display.HTML object>"
            ]
          },
          "metadata": {
            "tags": []
          }
        },
        {
          "output_type": "execute_result",
          "data": {
            "text/plain": [
              "SuggestedLRs(lr_min=0.03019951581954956, lr_steep=0.0003981071640737355)"
            ]
          },
          "metadata": {
            "tags": []
          },
          "execution_count": 55
        },
        {
          "output_type": "display_data",
          "data": {
            "image/png": "[encoded data removed]",
            "text/plain": [
              "<Figure size 432x288 with 1 Axes>"
            ]
          },
          "metadata": {
            "tags": [],
            "needs_background": "light"
          }
        }
      ]
    },
    {
      "cell_type": "code",
      "metadata": {
        "id": "tUicTPeuhziN",
        "colab_type": "code",
        "colab": {
          "base_uri": "https://localhost:8080/",
          "height": 1000
        },
        "outputId": "dbf059c7-1cbe-4137-9fcd-2c110bc42e1d"
      },
      "source": [
        "learn.fit(50,1e-3)"
      ],
      "execution_count": null,
      "outputs": [
        {
          "output_type": "display_data",
          "data": {
            "text/html": [
              "<table border=\"1\" class=\"dataframe\">\n",
              "  <thead>\n",
              "    <tr style=\"text-align: left;\">\n",
              "      <th>epoch</th>\n",
              "      <th>train_loss</th>\n",
              "      <th>valid_loss</th>\n",
              "      <th>time</th>\n",
              "    </tr>\n",
              "  </thead>\n",
              "  <tbody>\n",
              "    <tr>\n",
              "      <td>0</td>\n",
              "      <td>0.373616</td>\n",
              "      <td>0.335259</td>\n",
              "      <td>00:02</td>\n",
              "    </tr>\n",
              "    <tr>\n",
              "      <td>1</td>\n",
              "      <td>0.378223</td>\n",
              "      <td>0.287420</td>\n",
              "      <td>00:02</td>\n",
              "    </tr>\n",
              "    <tr>\n",
              "      <td>2</td>\n",
              "      <td>0.338104</td>\n",
              "      <td>0.272776</td>\n",
              "      <td>00:02</td>\n",
              "    </tr>\n",
              "    <tr>\n",
              "      <td>3</td>\n",
              "      <td>0.318468</td>\n",
              "      <td>0.272740</td>\n",
              "      <td>00:02</td>\n",
              "    </tr>\n",
              "    <tr>\n",
              "      <td>4</td>\n",
              "      <td>0.328818</td>\n",
              "      <td>0.263506</td>\n",
              "      <td>00:02</td>\n",
              "    </tr>\n",
              "    <tr>\n",
              "      <td>5</td>\n",
              "      <td>0.305960</td>\n",
              "      <td>0.263038</td>\n",
              "      <td>00:02</td>\n",
              "    </tr>\n",
              "    <tr>\n",
              "      <td>6</td>\n",
              "      <td>0.301829</td>\n",
              "      <td>0.281372</td>\n",
              "      <td>00:02</td>\n",
              "    </tr>\n",
              "    <tr>\n",
              "      <td>7</td>\n",
              "      <td>0.285233</td>\n",
              "      <td>0.262878</td>\n",
              "      <td>00:02</td>\n",
              "    </tr>\n",
              "    <tr>\n",
              "      <td>8</td>\n",
              "      <td>0.293329</td>\n",
              "      <td>0.247991</td>\n",
              "      <td>00:02</td>\n",
              "    </tr>\n",
              "    <tr>\n",
              "      <td>9</td>\n",
              "      <td>0.293683</td>\n",
              "      <td>0.252269</td>\n",
              "      <td>00:02</td>\n",
              "    </tr>\n",
              "    <tr>\n",
              "      <td>10</td>\n",
              "      <td>0.273322</td>\n",
              "      <td>0.278389</td>\n",
              "      <td>00:02</td>\n",
              "    </tr>\n",
              "    <tr>\n",
              "      <td>11</td>\n",
              "      <td>0.254602</td>\n",
              "      <td>0.276594</td>\n",
              "      <td>00:02</td>\n",
              "    </tr>\n",
              "    <tr>\n",
              "      <td>12</td>\n",
              "      <td>0.212496</td>\n",
              "      <td>0.226679</td>\n",
              "      <td>00:02</td>\n",
              "    </tr>\n",
              "    <tr>\n",
              "      <td>13</td>\n",
              "      <td>0.189272</td>\n",
              "      <td>0.230855</td>\n",
              "      <td>00:02</td>\n",
              "    </tr>\n",
              "    <tr>\n",
              "      <td>14</td>\n",
              "      <td>0.198126</td>\n",
              "      <td>0.227599</td>\n",
              "      <td>00:02</td>\n",
              "    </tr>\n",
              "    <tr>\n",
              "      <td>15</td>\n",
              "      <td>0.189863</td>\n",
              "      <td>0.228974</td>\n",
              "      <td>00:02</td>\n",
              "    </tr>\n",
              "    <tr>\n",
              "      <td>16</td>\n",
              "      <td>0.187685</td>\n",
              "      <td>0.227659</td>\n",
              "      <td>00:02</td>\n",
              "    </tr>\n",
              "    <tr>\n",
              "      <td>17</td>\n",
              "      <td>0.202192</td>\n",
              "      <td>0.227266</td>\n",
              "      <td>00:02</td>\n",
              "    </tr>\n",
              "    <tr>\n",
              "      <td>18</td>\n",
              "      <td>0.192485</td>\n",
              "      <td>0.226430</td>\n",
              "      <td>00:02</td>\n",
              "    </tr>\n",
              "    <tr>\n",
              "      <td>19</td>\n",
              "      <td>0.190232</td>\n",
              "      <td>0.227033</td>\n",
              "      <td>00:02</td>\n",
              "    </tr>\n",
              "    <tr>\n",
              "      <td>20</td>\n",
              "      <td>0.189776</td>\n",
              "      <td>0.224058</td>\n",
              "      <td>00:02</td>\n",
              "    </tr>\n",
              "    <tr>\n",
              "      <td>21</td>\n",
              "      <td>0.186851</td>\n",
              "      <td>0.226305</td>\n",
              "      <td>00:02</td>\n",
              "    </tr>\n",
              "    <tr>\n",
              "      <td>22</td>\n",
              "      <td>0.187045</td>\n",
              "      <td>0.224353</td>\n",
              "      <td>00:02</td>\n",
              "    </tr>\n",
              "    <tr>\n",
              "      <td>23</td>\n",
              "      <td>0.193822</td>\n",
              "      <td>0.223141</td>\n",
              "      <td>00:02</td>\n",
              "    </tr>\n",
              "    <tr>\n",
              "      <td>24</td>\n",
              "      <td>0.199574</td>\n",
              "      <td>0.224017</td>\n",
              "      <td>00:02</td>\n",
              "    </tr>\n",
              "    <tr>\n",
              "      <td>25</td>\n",
              "      <td>0.187568</td>\n",
              "      <td>0.225407</td>\n",
              "      <td>00:02</td>\n",
              "    </tr>\n",
              "    <tr>\n",
              "      <td>26</td>\n",
              "      <td>0.186910</td>\n",
              "      <td>0.225330</td>\n",
              "      <td>00:02</td>\n",
              "    </tr>\n",
              "    <tr>\n",
              "      <td>27</td>\n",
              "      <td>0.191695</td>\n",
              "      <td>0.225298</td>\n",
              "      <td>00:02</td>\n",
              "    </tr>\n",
              "    <tr>\n",
              "      <td>28</td>\n",
              "      <td>0.193181</td>\n",
              "      <td>0.225424</td>\n",
              "      <td>00:02</td>\n",
              "    </tr>\n",
              "    <tr>\n",
              "      <td>29</td>\n",
              "      <td>0.198716</td>\n",
              "      <td>0.225431</td>\n",
              "      <td>00:02</td>\n",
              "    </tr>\n",
              "    <tr>\n",
              "      <td>30</td>\n",
              "      <td>0.190997</td>\n",
              "      <td>0.225408</td>\n",
              "      <td>00:02</td>\n",
              "    </tr>\n",
              "    <tr>\n",
              "      <td>31</td>\n",
              "      <td>0.190925</td>\n",
              "      <td>0.225385</td>\n",
              "      <td>00:02</td>\n",
              "    </tr>\n",
              "    <tr>\n",
              "      <td>32</td>\n",
              "      <td>0.185933</td>\n",
              "      <td>0.225379</td>\n",
              "      <td>00:02</td>\n",
              "    </tr>\n",
              "    <tr>\n",
              "      <td>33</td>\n",
              "      <td>0.185405</td>\n",
              "      <td>0.225380</td>\n",
              "      <td>00:02</td>\n",
              "    </tr>\n",
              "    <tr>\n",
              "      <td>34</td>\n",
              "      <td>0.188094</td>\n",
              "      <td>0.225379</td>\n",
              "      <td>00:02</td>\n",
              "    </tr>\n",
              "    <tr>\n",
              "      <td>35</td>\n",
              "      <td>0.183973</td>\n",
              "      <td>0.225379</td>\n",
              "      <td>00:02</td>\n",
              "    </tr>\n",
              "    <tr>\n",
              "      <td>36</td>\n",
              "      <td>0.181050</td>\n",
              "      <td>0.225379</td>\n",
              "      <td>00:02</td>\n",
              "    </tr>\n",
              "    <tr>\n",
              "      <td>37</td>\n",
              "      <td>0.194128</td>\n",
              "      <td>0.225379</td>\n",
              "      <td>00:02</td>\n",
              "    </tr>\n",
              "    <tr>\n",
              "      <td>38</td>\n",
              "      <td>0.192394</td>\n",
              "      <td>0.225379</td>\n",
              "      <td>00:02</td>\n",
              "    </tr>\n",
              "    <tr>\n",
              "      <td>39</td>\n",
              "      <td>0.197801</td>\n",
              "      <td>0.225379</td>\n",
              "      <td>00:02</td>\n",
              "    </tr>\n",
              "    <tr>\n",
              "      <td>40</td>\n",
              "      <td>0.185498</td>\n",
              "      <td>0.225379</td>\n",
              "      <td>00:02</td>\n",
              "    </tr>\n",
              "    <tr>\n",
              "      <td>41</td>\n",
              "      <td>0.179554</td>\n",
              "      <td>0.225379</td>\n",
              "      <td>00:02</td>\n",
              "    </tr>\n",
              "    <tr>\n",
              "      <td>42</td>\n",
              "      <td>0.177688</td>\n",
              "      <td>0.225379</td>\n",
              "      <td>00:02</td>\n",
              "    </tr>\n",
              "    <tr>\n",
              "      <td>43</td>\n",
              "      <td>0.179876</td>\n",
              "      <td>0.225379</td>\n",
              "      <td>00:02</td>\n",
              "    </tr>\n",
              "    <tr>\n",
              "      <td>44</td>\n",
              "      <td>0.189544</td>\n",
              "      <td>0.225379</td>\n",
              "      <td>00:02</td>\n",
              "    </tr>\n",
              "    <tr>\n",
              "      <td>45</td>\n",
              "      <td>0.190421</td>\n",
              "      <td>0.225379</td>\n",
              "      <td>00:02</td>\n",
              "    </tr>\n",
              "    <tr>\n",
              "      <td>46</td>\n",
              "      <td>0.191165</td>\n",
              "      <td>0.225379</td>\n",
              "      <td>00:02</td>\n",
              "    </tr>\n",
              "    <tr>\n",
              "      <td>47</td>\n",
              "      <td>0.182564</td>\n",
              "      <td>0.225379</td>\n",
              "      <td>00:02</td>\n",
              "    </tr>\n",
              "    <tr>\n",
              "      <td>48</td>\n",
              "      <td>0.180183</td>\n",
              "      <td>0.225379</td>\n",
              "      <td>00:02</td>\n",
              "    </tr>\n",
              "    <tr>\n",
              "      <td>49</td>\n",
              "      <td>0.189621</td>\n",
              "      <td>0.225379</td>\n",
              "      <td>00:02</td>\n",
              "    </tr>\n",
              "  </tbody>\n",
              "</table>"
            ],
            "text/plain": [
              "<IPython.core.display.HTML object>"
            ]
          },
          "metadata": {
            "tags": []
          }
        },
        {
          "output_type": "stream",
          "text": [
            "Epoch 11: reducing lr to 0.0001\n",
            "Epoch 15: reducing lr to 1e-05\n",
            "Epoch 26: reducing lr to 1.0000000000000002e-06\n",
            "Epoch 29: reducing lr to 1.0000000000000002e-07\n",
            "Epoch 32: reducing lr to 1.0000000000000002e-08\n",
            "Epoch 35: reducing lr to 1.0000000000000003e-09\n",
            "Epoch 38: reducing lr to 1.0000000000000003e-10\n",
            "Epoch 41: reducing lr to 1.0000000000000003e-11\n",
            "Epoch 44: reducing lr to 1.0000000000000002e-12\n",
            "Epoch 47: reducing lr to 1.0000000000000002e-13\n"
          ],
          "name": "stdout"
        }
      ]
    },
    {
      "cell_type": "code",
      "metadata": {
        "id": "-d8Plu4HhzYN",
        "colab_type": "code",
        "colab": {
          "base_uri": "https://localhost:8080/",
          "height": 170
        },
        "outputId": "6405f33c-f109-4ec9-9038-ff5c205f76ef"
      },
      "source": [
        "show_output()"
      ],
      "execution_count": null,
      "outputs": [
        {
          "output_type": "stream",
          "text": [
            "Actual  |                                  Prediction                                  | Cleaned \n",
            "677g3   |  .................6...77......7..........g......3........................... |  677g3\n",
            "wwmn6   |  ............w........ww.....................n.......6...................... |  wwn6\n",
            "nybcx   |  ............n........yy.....bb..........cc......x.......................... |  nybcx\n",
            "y866y   |  ..............y...........8........6.......66....y......................... |  y866y\n",
            "fnbfw   |  .............f.............b.........f......w.............................. |  fbfw\n",
            "pg2yx   |  ............p............g...2.......yy..........x......................... |  pg2yx\n",
            "n7g4f   |  .....................7..........g.......4.....f............................ |  7g4f\n",
            "pcm7f   |  ............p...........cc.......nn.......7......f......................... |  pcn7f\n"
          ],
          "name": "stdout"
        }
      ]
    },
    {
      "cell_type": "code",
      "metadata": {
        "id": "hBLT12rvKW-h",
        "colab_type": "code",
        "colab": {}
      },
      "source": [
        ""
      ],
      "execution_count": null,
      "outputs": []
    }
  ]
}